{
  "nbformat": 4,
  "nbformat_minor": 0,
  "metadata": {
    "colab": {
      "name": "Tarea_Datos_IDEAM_Octavio_Urrutia.ipynb",
      "provenance": [],
      "collapsed_sections": [],
      "include_colab_link": true
    },
    "kernelspec": {
      "name": "python3",
      "display_name": "Python 3"
    },
    "language_info": {
      "name": "python"
    }
  },
  "cells": [
    {
      "cell_type": "markdown",
      "metadata": {
        "id": "view-in-github",
        "colab_type": "text"
      },
      "source": [
        "<a href=\"https://colab.research.google.com/github/urru7/Curso-m-todos-num-ricos-IAP/blob/main/Tarea_Datos_IDEAM_Octavio_Urrutia.ipynb\" target=\"_parent\"><img src=\"https://colab.research.google.com/assets/colab-badge.svg\" alt=\"Open In Colab\"/></a>"
      ]
    },
    {
      "cell_type": "markdown",
      "source": [
        "# Datos metereológicos de municipios del eje bananero (Chigorodó, Carepa, Apartadó y Turbo) proporcionados por el IDEAM\n",
        "\n",
        "Analisis realizado por **Octavio Urrutia Urango**, estudiante de Ingeniería Agropecuaria de la Universidad de Antioquia, seccional Urabá\n",
        "\n",
        "**Obtención de datos** : Se descargaron los datos de cada municipio de la web del IDEAM y se unieron en un solo archivo CSV."
      ],
      "metadata": {
        "id": "1Ljnlz4rTjSK"
      }
    },
    {
      "cell_type": "code",
      "execution_count": 1,
      "metadata": {
        "id": "eJss_pZtHSeI"
      },
      "outputs": [],
      "source": [
        "url=\"https://raw.githubusercontent.com/urru7/Curso-m-todos-num-ricos-IAP/main/Eje%20bananero%20Urab%C3%A1.csv\""
      ]
    },
    {
      "cell_type": "code",
      "source": [
        "import pandas as pd\n"
      ],
      "metadata": {
        "id": "V4VD9Om7MEIW"
      },
      "execution_count": 2,
      "outputs": []
    },
    {
      "cell_type": "code",
      "source": [
        "uraba=pd.read_csv(url, encoding =\"latin-1\")"
      ],
      "metadata": {
        "id": "8jZBFm5TQB-t"
      },
      "execution_count": 3,
      "outputs": []
    },
    {
      "cell_type": "code",
      "source": [
        "uraba"
      ],
      "metadata": {
        "colab": {
          "base_uri": "https://localhost:8080/",
          "height": 783
        },
        "id": "-BsgNlbIQTyT",
        "outputId": "bc4895d0-f5b4-4253-8f5d-7bbdc1ada340"
      },
      "execution_count": 4,
      "outputs": [
        {
          "output_type": "execute_result",
          "data": {
            "text/plain": [
              "     Cod_Div   Latitud   Longitud  Región Departamento       Fecha   Hora  \\\n",
              "0    5045000  7.883251 -76.625891     NaN    ANTIOQUIA  2022-08-03  17:00   \n",
              "1    5045000  7.883251 -76.625891     NaN    ANTIOQUIA  2022-08-03  18:00   \n",
              "2    5045000  7.883251 -76.625891     NaN    ANTIOQUIA  2022-08-03  19:00   \n",
              "3    5045000  7.883251 -76.625891     NaN    ANTIOQUIA  2022-08-03  20:00   \n",
              "4    5045000  7.883251 -76.625891     NaN    ANTIOQUIA  2022-08-03  21:00   \n",
              "..       ...       ...        ...     ...          ...         ...    ...   \n",
              "323  5837000  8.089113 -76.729160     NaN    ANTIOQUIA  2022-08-06  22:00   \n",
              "324  5837000  8.089113 -76.729160     NaN    ANTIOQUIA  2022-08-06  23:00   \n",
              "325  5837000  8.089113 -76.729160     NaN    ANTIOQUIA  2022-08-07  00:00   \n",
              "326  5837000  8.089113 -76.729160     NaN    ANTIOQUIA  2022-08-07  01:00   \n",
              "327  5837000  8.089113 -76.729160     NaN    ANTIOQUIA  2022-08-07  02:00   \n",
              "\n",
              "     Temperatura  Velocidad del Viento  Dirección del Viento  Presión  \\\n",
              "0           25.0                   1.4                 233.2   1008.0   \n",
              "1           24.3                   1.5                 217.3   1009.0   \n",
              "2           23.8                   1.4                 203.2   1010.0   \n",
              "3           23.7                   1.3                 193.9   1010.8   \n",
              "4           23.5                   1.1                 177.3   1011.5   \n",
              "..           ...                   ...                   ...      ...   \n",
              "323         23.7                   5.1                 190.0   1012.0   \n",
              "324         23.5                   5.0                 200.0   1012.0   \n",
              "325         23.3                   5.0                 190.0   1011.7   \n",
              "326         23.1                   5.0                 190.0   1011.0   \n",
              "327         23.0                   4.9                 181.3   1010.4   \n",
              "\n",
              "     Punto de Rocío  Cobertura total nubosa  Precipitación (mm/h)  \\\n",
              "0              23.5                    70.0                   1.1   \n",
              "1              23.1                    70.7                   1.1   \n",
              "2              22.7                    70.7                   1.2   \n",
              "3              22.8                    70.0                   0.6   \n",
              "4              22.8                    80.0                   0.0   \n",
              "..              ...                     ...                   ...   \n",
              "323            21.7                   100.0                   0.0   \n",
              "324            21.6                   100.0                   0.0   \n",
              "325            21.5                   100.0                   0.0   \n",
              "326            21.4                   100.0                   0.0   \n",
              "327            21.5                   100.0                   0.0   \n",
              "\n",
              "     Probabilidad de Tormenta  Humedad                             Pronóstico   \n",
              "0                        60.0     91.4  Parcialmente Nublado - Tormenta Ligera  \n",
              "1                         0.0     92.9    Parcialmente Nublado - Lluvia Fuerte  \n",
              "2                         0.0     93.7    Parcialmente Nublado - Lluvia Fuerte  \n",
              "3                         0.0     94.7    Parcialmente Nublado - Lluvia Fuerte  \n",
              "4                         0.0     95.8                      Nublado - Llovizna  \n",
              "..                        ...      ...                                     ...  \n",
              "323                       0.0     88.4                                 Nublado  \n",
              "324                       0.0     88.9                                 Nublado  \n",
              "325                       0.0     89.3                                 Nublado  \n",
              "326                       0.0     90.4                                 Nublado  \n",
              "327                       0.0     91.7                                 Nublado  \n",
              "\n",
              "[328 rows x 17 columns]"
            ],
            "text/html": [
              "\n",
              "  <div id=\"df-b2a33eb4-184d-4c49-a3c1-a7311e7dc853\">\n",
              "    <div class=\"colab-df-container\">\n",
              "      <div>\n",
              "<style scoped>\n",
              "    .dataframe tbody tr th:only-of-type {\n",
              "        vertical-align: middle;\n",
              "    }\n",
              "\n",
              "    .dataframe tbody tr th {\n",
              "        vertical-align: top;\n",
              "    }\n",
              "\n",
              "    .dataframe thead th {\n",
              "        text-align: right;\n",
              "    }\n",
              "</style>\n",
              "<table border=\"1\" class=\"dataframe\">\n",
              "  <thead>\n",
              "    <tr style=\"text-align: right;\">\n",
              "      <th></th>\n",
              "      <th>Cod_Div</th>\n",
              "      <th>Latitud</th>\n",
              "      <th>Longitud</th>\n",
              "      <th>Región</th>\n",
              "      <th>Departamento</th>\n",
              "      <th>Fecha</th>\n",
              "      <th>Hora</th>\n",
              "      <th>Temperatura</th>\n",
              "      <th>Velocidad del Viento</th>\n",
              "      <th>Dirección del Viento</th>\n",
              "      <th>Presión</th>\n",
              "      <th>Punto de Rocío</th>\n",
              "      <th>Cobertura total nubosa</th>\n",
              "      <th>Precipitación (mm/h)</th>\n",
              "      <th>Probabilidad de Tormenta</th>\n",
              "      <th>Humedad</th>\n",
              "      <th>Pronóstico</th>\n",
              "    </tr>\n",
              "  </thead>\n",
              "  <tbody>\n",
              "    <tr>\n",
              "      <th>0</th>\n",
              "      <td>5045000</td>\n",
              "      <td>7.883251</td>\n",
              "      <td>-76.625891</td>\n",
              "      <td>NaN</td>\n",
              "      <td>ANTIOQUIA</td>\n",
              "      <td>2022-08-03</td>\n",
              "      <td>17:00</td>\n",
              "      <td>25.0</td>\n",
              "      <td>1.4</td>\n",
              "      <td>233.2</td>\n",
              "      <td>1008.0</td>\n",
              "      <td>23.5</td>\n",
              "      <td>70.0</td>\n",
              "      <td>1.1</td>\n",
              "      <td>60.0</td>\n",
              "      <td>91.4</td>\n",
              "      <td>Parcialmente Nublado - Tormenta Ligera</td>\n",
              "    </tr>\n",
              "    <tr>\n",
              "      <th>1</th>\n",
              "      <td>5045000</td>\n",
              "      <td>7.883251</td>\n",
              "      <td>-76.625891</td>\n",
              "      <td>NaN</td>\n",
              "      <td>ANTIOQUIA</td>\n",
              "      <td>2022-08-03</td>\n",
              "      <td>18:00</td>\n",
              "      <td>24.3</td>\n",
              "      <td>1.5</td>\n",
              "      <td>217.3</td>\n",
              "      <td>1009.0</td>\n",
              "      <td>23.1</td>\n",
              "      <td>70.7</td>\n",
              "      <td>1.1</td>\n",
              "      <td>0.0</td>\n",
              "      <td>92.9</td>\n",
              "      <td>Parcialmente Nublado - Lluvia Fuerte</td>\n",
              "    </tr>\n",
              "    <tr>\n",
              "      <th>2</th>\n",
              "      <td>5045000</td>\n",
              "      <td>7.883251</td>\n",
              "      <td>-76.625891</td>\n",
              "      <td>NaN</td>\n",
              "      <td>ANTIOQUIA</td>\n",
              "      <td>2022-08-03</td>\n",
              "      <td>19:00</td>\n",
              "      <td>23.8</td>\n",
              "      <td>1.4</td>\n",
              "      <td>203.2</td>\n",
              "      <td>1010.0</td>\n",
              "      <td>22.7</td>\n",
              "      <td>70.7</td>\n",
              "      <td>1.2</td>\n",
              "      <td>0.0</td>\n",
              "      <td>93.7</td>\n",
              "      <td>Parcialmente Nublado - Lluvia Fuerte</td>\n",
              "    </tr>\n",
              "    <tr>\n",
              "      <th>3</th>\n",
              "      <td>5045000</td>\n",
              "      <td>7.883251</td>\n",
              "      <td>-76.625891</td>\n",
              "      <td>NaN</td>\n",
              "      <td>ANTIOQUIA</td>\n",
              "      <td>2022-08-03</td>\n",
              "      <td>20:00</td>\n",
              "      <td>23.7</td>\n",
              "      <td>1.3</td>\n",
              "      <td>193.9</td>\n",
              "      <td>1010.8</td>\n",
              "      <td>22.8</td>\n",
              "      <td>70.0</td>\n",
              "      <td>0.6</td>\n",
              "      <td>0.0</td>\n",
              "      <td>94.7</td>\n",
              "      <td>Parcialmente Nublado - Lluvia Fuerte</td>\n",
              "    </tr>\n",
              "    <tr>\n",
              "      <th>4</th>\n",
              "      <td>5045000</td>\n",
              "      <td>7.883251</td>\n",
              "      <td>-76.625891</td>\n",
              "      <td>NaN</td>\n",
              "      <td>ANTIOQUIA</td>\n",
              "      <td>2022-08-03</td>\n",
              "      <td>21:00</td>\n",
              "      <td>23.5</td>\n",
              "      <td>1.1</td>\n",
              "      <td>177.3</td>\n",
              "      <td>1011.5</td>\n",
              "      <td>22.8</td>\n",
              "      <td>80.0</td>\n",
              "      <td>0.0</td>\n",
              "      <td>0.0</td>\n",
              "      <td>95.8</td>\n",
              "      <td>Nublado - Llovizna</td>\n",
              "    </tr>\n",
              "    <tr>\n",
              "      <th>...</th>\n",
              "      <td>...</td>\n",
              "      <td>...</td>\n",
              "      <td>...</td>\n",
              "      <td>...</td>\n",
              "      <td>...</td>\n",
              "      <td>...</td>\n",
              "      <td>...</td>\n",
              "      <td>...</td>\n",
              "      <td>...</td>\n",
              "      <td>...</td>\n",
              "      <td>...</td>\n",
              "      <td>...</td>\n",
              "      <td>...</td>\n",
              "      <td>...</td>\n",
              "      <td>...</td>\n",
              "      <td>...</td>\n",
              "      <td>...</td>\n",
              "    </tr>\n",
              "    <tr>\n",
              "      <th>323</th>\n",
              "      <td>5837000</td>\n",
              "      <td>8.089113</td>\n",
              "      <td>-76.729160</td>\n",
              "      <td>NaN</td>\n",
              "      <td>ANTIOQUIA</td>\n",
              "      <td>2022-08-06</td>\n",
              "      <td>22:00</td>\n",
              "      <td>23.7</td>\n",
              "      <td>5.1</td>\n",
              "      <td>190.0</td>\n",
              "      <td>1012.0</td>\n",
              "      <td>21.7</td>\n",
              "      <td>100.0</td>\n",
              "      <td>0.0</td>\n",
              "      <td>0.0</td>\n",
              "      <td>88.4</td>\n",
              "      <td>Nublado</td>\n",
              "    </tr>\n",
              "    <tr>\n",
              "      <th>324</th>\n",
              "      <td>5837000</td>\n",
              "      <td>8.089113</td>\n",
              "      <td>-76.729160</td>\n",
              "      <td>NaN</td>\n",
              "      <td>ANTIOQUIA</td>\n",
              "      <td>2022-08-06</td>\n",
              "      <td>23:00</td>\n",
              "      <td>23.5</td>\n",
              "      <td>5.0</td>\n",
              "      <td>200.0</td>\n",
              "      <td>1012.0</td>\n",
              "      <td>21.6</td>\n",
              "      <td>100.0</td>\n",
              "      <td>0.0</td>\n",
              "      <td>0.0</td>\n",
              "      <td>88.9</td>\n",
              "      <td>Nublado</td>\n",
              "    </tr>\n",
              "    <tr>\n",
              "      <th>325</th>\n",
              "      <td>5837000</td>\n",
              "      <td>8.089113</td>\n",
              "      <td>-76.729160</td>\n",
              "      <td>NaN</td>\n",
              "      <td>ANTIOQUIA</td>\n",
              "      <td>2022-08-07</td>\n",
              "      <td>00:00</td>\n",
              "      <td>23.3</td>\n",
              "      <td>5.0</td>\n",
              "      <td>190.0</td>\n",
              "      <td>1011.7</td>\n",
              "      <td>21.5</td>\n",
              "      <td>100.0</td>\n",
              "      <td>0.0</td>\n",
              "      <td>0.0</td>\n",
              "      <td>89.3</td>\n",
              "      <td>Nublado</td>\n",
              "    </tr>\n",
              "    <tr>\n",
              "      <th>326</th>\n",
              "      <td>5837000</td>\n",
              "      <td>8.089113</td>\n",
              "      <td>-76.729160</td>\n",
              "      <td>NaN</td>\n",
              "      <td>ANTIOQUIA</td>\n",
              "      <td>2022-08-07</td>\n",
              "      <td>01:00</td>\n",
              "      <td>23.1</td>\n",
              "      <td>5.0</td>\n",
              "      <td>190.0</td>\n",
              "      <td>1011.0</td>\n",
              "      <td>21.4</td>\n",
              "      <td>100.0</td>\n",
              "      <td>0.0</td>\n",
              "      <td>0.0</td>\n",
              "      <td>90.4</td>\n",
              "      <td>Nublado</td>\n",
              "    </tr>\n",
              "    <tr>\n",
              "      <th>327</th>\n",
              "      <td>5837000</td>\n",
              "      <td>8.089113</td>\n",
              "      <td>-76.729160</td>\n",
              "      <td>NaN</td>\n",
              "      <td>ANTIOQUIA</td>\n",
              "      <td>2022-08-07</td>\n",
              "      <td>02:00</td>\n",
              "      <td>23.0</td>\n",
              "      <td>4.9</td>\n",
              "      <td>181.3</td>\n",
              "      <td>1010.4</td>\n",
              "      <td>21.5</td>\n",
              "      <td>100.0</td>\n",
              "      <td>0.0</td>\n",
              "      <td>0.0</td>\n",
              "      <td>91.7</td>\n",
              "      <td>Nublado</td>\n",
              "    </tr>\n",
              "  </tbody>\n",
              "</table>\n",
              "<p>328 rows × 17 columns</p>\n",
              "</div>\n",
              "      <button class=\"colab-df-convert\" onclick=\"convertToInteractive('df-b2a33eb4-184d-4c49-a3c1-a7311e7dc853')\"\n",
              "              title=\"Convert this dataframe to an interactive table.\"\n",
              "              style=\"display:none;\">\n",
              "        \n",
              "  <svg xmlns=\"http://www.w3.org/2000/svg\" height=\"24px\"viewBox=\"0 0 24 24\"\n",
              "       width=\"24px\">\n",
              "    <path d=\"M0 0h24v24H0V0z\" fill=\"none\"/>\n",
              "    <path d=\"M18.56 5.44l.94 2.06.94-2.06 2.06-.94-2.06-.94-.94-2.06-.94 2.06-2.06.94zm-11 1L8.5 8.5l.94-2.06 2.06-.94-2.06-.94L8.5 2.5l-.94 2.06-2.06.94zm10 10l.94 2.06.94-2.06 2.06-.94-2.06-.94-.94-2.06-.94 2.06-2.06.94z\"/><path d=\"M17.41 7.96l-1.37-1.37c-.4-.4-.92-.59-1.43-.59-.52 0-1.04.2-1.43.59L10.3 9.45l-7.72 7.72c-.78.78-.78 2.05 0 2.83L4 21.41c.39.39.9.59 1.41.59.51 0 1.02-.2 1.41-.59l7.78-7.78 2.81-2.81c.8-.78.8-2.07 0-2.86zM5.41 20L4 18.59l7.72-7.72 1.47 1.35L5.41 20z\"/>\n",
              "  </svg>\n",
              "      </button>\n",
              "      \n",
              "  <style>\n",
              "    .colab-df-container {\n",
              "      display:flex;\n",
              "      flex-wrap:wrap;\n",
              "      gap: 12px;\n",
              "    }\n",
              "\n",
              "    .colab-df-convert {\n",
              "      background-color: #E8F0FE;\n",
              "      border: none;\n",
              "      border-radius: 50%;\n",
              "      cursor: pointer;\n",
              "      display: none;\n",
              "      fill: #1967D2;\n",
              "      height: 32px;\n",
              "      padding: 0 0 0 0;\n",
              "      width: 32px;\n",
              "    }\n",
              "\n",
              "    .colab-df-convert:hover {\n",
              "      background-color: #E2EBFA;\n",
              "      box-shadow: 0px 1px 2px rgba(60, 64, 67, 0.3), 0px 1px 3px 1px rgba(60, 64, 67, 0.15);\n",
              "      fill: #174EA6;\n",
              "    }\n",
              "\n",
              "    [theme=dark] .colab-df-convert {\n",
              "      background-color: #3B4455;\n",
              "      fill: #D2E3FC;\n",
              "    }\n",
              "\n",
              "    [theme=dark] .colab-df-convert:hover {\n",
              "      background-color: #434B5C;\n",
              "      box-shadow: 0px 1px 3px 1px rgba(0, 0, 0, 0.15);\n",
              "      filter: drop-shadow(0px 1px 2px rgba(0, 0, 0, 0.3));\n",
              "      fill: #FFFFFF;\n",
              "    }\n",
              "  </style>\n",
              "\n",
              "      <script>\n",
              "        const buttonEl =\n",
              "          document.querySelector('#df-b2a33eb4-184d-4c49-a3c1-a7311e7dc853 button.colab-df-convert');\n",
              "        buttonEl.style.display =\n",
              "          google.colab.kernel.accessAllowed ? 'block' : 'none';\n",
              "\n",
              "        async function convertToInteractive(key) {\n",
              "          const element = document.querySelector('#df-b2a33eb4-184d-4c49-a3c1-a7311e7dc853');\n",
              "          const dataTable =\n",
              "            await google.colab.kernel.invokeFunction('convertToInteractive',\n",
              "                                                     [key], {});\n",
              "          if (!dataTable) return;\n",
              "\n",
              "          const docLinkHtml = 'Like what you see? Visit the ' +\n",
              "            '<a target=\"_blank\" href=https://colab.research.google.com/notebooks/data_table.ipynb>data table notebook</a>'\n",
              "            + ' to learn more about interactive tables.';\n",
              "          element.innerHTML = '';\n",
              "          dataTable['output_type'] = 'display_data';\n",
              "          await google.colab.output.renderOutput(dataTable, element);\n",
              "          const docLink = document.createElement('div');\n",
              "          docLink.innerHTML = docLinkHtml;\n",
              "          element.appendChild(docLink);\n",
              "        }\n",
              "      </script>\n",
              "    </div>\n",
              "  </div>\n",
              "  "
            ]
          },
          "metadata": {},
          "execution_count": 4
        }
      ]
    },
    {
      "cell_type": "markdown",
      "source": [
        "De este dataframe descartamos las columnas región y departamento ya que del primero no tenemos datos y los municipios pertenecen a un mismo ente territorial, en este caso el departamento de Antioquia."
      ],
      "metadata": {
        "id": "y_32YvFLuJUc"
      }
    },
    {
      "cell_type": "code",
      "source": [
        "uraba.drop([\"Departamento\",\"Región\",], axis=1)"
      ],
      "metadata": {
        "colab": {
          "base_uri": "https://localhost:8080/",
          "height": 514
        },
        "id": "EUsgIJgKsmow",
        "outputId": "9988d101-06de-4ea3-cf6e-ecba725a72f2"
      },
      "execution_count": 20,
      "outputs": [
        {
          "output_type": "execute_result",
          "data": {
            "text/plain": [
              "     Cod_Div   Latitud   Longitud       Fecha   Hora  Temperatura  \\\n",
              "0    5045000  7.883251 -76.625891  2022-08-03  17:00         25.0   \n",
              "1    5045000  7.883251 -76.625891  2022-08-03  18:00         24.3   \n",
              "2    5045000  7.883251 -76.625891  2022-08-03  19:00         23.8   \n",
              "3    5045000  7.883251 -76.625891  2022-08-03  20:00         23.7   \n",
              "4    5045000  7.883251 -76.625891  2022-08-03  21:00         23.5   \n",
              "..       ...       ...        ...         ...    ...          ...   \n",
              "323  5837000  8.089113 -76.729160  2022-08-06  22:00         23.7   \n",
              "324  5837000  8.089113 -76.729160  2022-08-06  23:00         23.5   \n",
              "325  5837000  8.089113 -76.729160  2022-08-07  00:00         23.3   \n",
              "326  5837000  8.089113 -76.729160  2022-08-07  01:00         23.1   \n",
              "327  5837000  8.089113 -76.729160  2022-08-07  02:00         23.0   \n",
              "\n",
              "     Velocidad del Viento  Dirección del Viento  Presión  Punto de Rocío  \\\n",
              "0                     1.4                 233.2   1008.0            23.5   \n",
              "1                     1.5                 217.3   1009.0            23.1   \n",
              "2                     1.4                 203.2   1010.0            22.7   \n",
              "3                     1.3                 193.9   1010.8            22.8   \n",
              "4                     1.1                 177.3   1011.5            22.8   \n",
              "..                    ...                   ...      ...             ...   \n",
              "323                   5.1                 190.0   1012.0            21.7   \n",
              "324                   5.0                 200.0   1012.0            21.6   \n",
              "325                   5.0                 190.0   1011.7            21.5   \n",
              "326                   5.0                 190.0   1011.0            21.4   \n",
              "327                   4.9                 181.3   1010.4            21.5   \n",
              "\n",
              "     Cobertura total nubosa  Precipitación (mm/h)  Probabilidad de Tormenta  \\\n",
              "0                      70.0                   1.1                      60.0   \n",
              "1                      70.7                   1.1                       0.0   \n",
              "2                      70.7                   1.2                       0.0   \n",
              "3                      70.0                   0.6                       0.0   \n",
              "4                      80.0                   0.0                       0.0   \n",
              "..                      ...                   ...                       ...   \n",
              "323                   100.0                   0.0                       0.0   \n",
              "324                   100.0                   0.0                       0.0   \n",
              "325                   100.0                   0.0                       0.0   \n",
              "326                   100.0                   0.0                       0.0   \n",
              "327                   100.0                   0.0                       0.0   \n",
              "\n",
              "     Humedad                             Pronóstico   \n",
              "0       91.4  Parcialmente Nublado - Tormenta Ligera  \n",
              "1       92.9    Parcialmente Nublado - Lluvia Fuerte  \n",
              "2       93.7    Parcialmente Nublado - Lluvia Fuerte  \n",
              "3       94.7    Parcialmente Nublado - Lluvia Fuerte  \n",
              "4       95.8                      Nublado - Llovizna  \n",
              "..       ...                                     ...  \n",
              "323     88.4                                 Nublado  \n",
              "324     88.9                                 Nublado  \n",
              "325     89.3                                 Nublado  \n",
              "326     90.4                                 Nublado  \n",
              "327     91.7                                 Nublado  \n",
              "\n",
              "[328 rows x 15 columns]"
            ],
            "text/html": [
              "\n",
              "  <div id=\"df-4c4cb7d9-b39a-47bf-a0fd-785b5ffcd4c6\">\n",
              "    <div class=\"colab-df-container\">\n",
              "      <div>\n",
              "<style scoped>\n",
              "    .dataframe tbody tr th:only-of-type {\n",
              "        vertical-align: middle;\n",
              "    }\n",
              "\n",
              "    .dataframe tbody tr th {\n",
              "        vertical-align: top;\n",
              "    }\n",
              "\n",
              "    .dataframe thead th {\n",
              "        text-align: right;\n",
              "    }\n",
              "</style>\n",
              "<table border=\"1\" class=\"dataframe\">\n",
              "  <thead>\n",
              "    <tr style=\"text-align: right;\">\n",
              "      <th></th>\n",
              "      <th>Cod_Div</th>\n",
              "      <th>Latitud</th>\n",
              "      <th>Longitud</th>\n",
              "      <th>Fecha</th>\n",
              "      <th>Hora</th>\n",
              "      <th>Temperatura</th>\n",
              "      <th>Velocidad del Viento</th>\n",
              "      <th>Dirección del Viento</th>\n",
              "      <th>Presión</th>\n",
              "      <th>Punto de Rocío</th>\n",
              "      <th>Cobertura total nubosa</th>\n",
              "      <th>Precipitación (mm/h)</th>\n",
              "      <th>Probabilidad de Tormenta</th>\n",
              "      <th>Humedad</th>\n",
              "      <th>Pronóstico</th>\n",
              "    </tr>\n",
              "  </thead>\n",
              "  <tbody>\n",
              "    <tr>\n",
              "      <th>0</th>\n",
              "      <td>5045000</td>\n",
              "      <td>7.883251</td>\n",
              "      <td>-76.625891</td>\n",
              "      <td>2022-08-03</td>\n",
              "      <td>17:00</td>\n",
              "      <td>25.0</td>\n",
              "      <td>1.4</td>\n",
              "      <td>233.2</td>\n",
              "      <td>1008.0</td>\n",
              "      <td>23.5</td>\n",
              "      <td>70.0</td>\n",
              "      <td>1.1</td>\n",
              "      <td>60.0</td>\n",
              "      <td>91.4</td>\n",
              "      <td>Parcialmente Nublado - Tormenta Ligera</td>\n",
              "    </tr>\n",
              "    <tr>\n",
              "      <th>1</th>\n",
              "      <td>5045000</td>\n",
              "      <td>7.883251</td>\n",
              "      <td>-76.625891</td>\n",
              "      <td>2022-08-03</td>\n",
              "      <td>18:00</td>\n",
              "      <td>24.3</td>\n",
              "      <td>1.5</td>\n",
              "      <td>217.3</td>\n",
              "      <td>1009.0</td>\n",
              "      <td>23.1</td>\n",
              "      <td>70.7</td>\n",
              "      <td>1.1</td>\n",
              "      <td>0.0</td>\n",
              "      <td>92.9</td>\n",
              "      <td>Parcialmente Nublado - Lluvia Fuerte</td>\n",
              "    </tr>\n",
              "    <tr>\n",
              "      <th>2</th>\n",
              "      <td>5045000</td>\n",
              "      <td>7.883251</td>\n",
              "      <td>-76.625891</td>\n",
              "      <td>2022-08-03</td>\n",
              "      <td>19:00</td>\n",
              "      <td>23.8</td>\n",
              "      <td>1.4</td>\n",
              "      <td>203.2</td>\n",
              "      <td>1010.0</td>\n",
              "      <td>22.7</td>\n",
              "      <td>70.7</td>\n",
              "      <td>1.2</td>\n",
              "      <td>0.0</td>\n",
              "      <td>93.7</td>\n",
              "      <td>Parcialmente Nublado - Lluvia Fuerte</td>\n",
              "    </tr>\n",
              "    <tr>\n",
              "      <th>3</th>\n",
              "      <td>5045000</td>\n",
              "      <td>7.883251</td>\n",
              "      <td>-76.625891</td>\n",
              "      <td>2022-08-03</td>\n",
              "      <td>20:00</td>\n",
              "      <td>23.7</td>\n",
              "      <td>1.3</td>\n",
              "      <td>193.9</td>\n",
              "      <td>1010.8</td>\n",
              "      <td>22.8</td>\n",
              "      <td>70.0</td>\n",
              "      <td>0.6</td>\n",
              "      <td>0.0</td>\n",
              "      <td>94.7</td>\n",
              "      <td>Parcialmente Nublado - Lluvia Fuerte</td>\n",
              "    </tr>\n",
              "    <tr>\n",
              "      <th>4</th>\n",
              "      <td>5045000</td>\n",
              "      <td>7.883251</td>\n",
              "      <td>-76.625891</td>\n",
              "      <td>2022-08-03</td>\n",
              "      <td>21:00</td>\n",
              "      <td>23.5</td>\n",
              "      <td>1.1</td>\n",
              "      <td>177.3</td>\n",
              "      <td>1011.5</td>\n",
              "      <td>22.8</td>\n",
              "      <td>80.0</td>\n",
              "      <td>0.0</td>\n",
              "      <td>0.0</td>\n",
              "      <td>95.8</td>\n",
              "      <td>Nublado - Llovizna</td>\n",
              "    </tr>\n",
              "    <tr>\n",
              "      <th>...</th>\n",
              "      <td>...</td>\n",
              "      <td>...</td>\n",
              "      <td>...</td>\n",
              "      <td>...</td>\n",
              "      <td>...</td>\n",
              "      <td>...</td>\n",
              "      <td>...</td>\n",
              "      <td>...</td>\n",
              "      <td>...</td>\n",
              "      <td>...</td>\n",
              "      <td>...</td>\n",
              "      <td>...</td>\n",
              "      <td>...</td>\n",
              "      <td>...</td>\n",
              "      <td>...</td>\n",
              "    </tr>\n",
              "    <tr>\n",
              "      <th>323</th>\n",
              "      <td>5837000</td>\n",
              "      <td>8.089113</td>\n",
              "      <td>-76.729160</td>\n",
              "      <td>2022-08-06</td>\n",
              "      <td>22:00</td>\n",
              "      <td>23.7</td>\n",
              "      <td>5.1</td>\n",
              "      <td>190.0</td>\n",
              "      <td>1012.0</td>\n",
              "      <td>21.7</td>\n",
              "      <td>100.0</td>\n",
              "      <td>0.0</td>\n",
              "      <td>0.0</td>\n",
              "      <td>88.4</td>\n",
              "      <td>Nublado</td>\n",
              "    </tr>\n",
              "    <tr>\n",
              "      <th>324</th>\n",
              "      <td>5837000</td>\n",
              "      <td>8.089113</td>\n",
              "      <td>-76.729160</td>\n",
              "      <td>2022-08-06</td>\n",
              "      <td>23:00</td>\n",
              "      <td>23.5</td>\n",
              "      <td>5.0</td>\n",
              "      <td>200.0</td>\n",
              "      <td>1012.0</td>\n",
              "      <td>21.6</td>\n",
              "      <td>100.0</td>\n",
              "      <td>0.0</td>\n",
              "      <td>0.0</td>\n",
              "      <td>88.9</td>\n",
              "      <td>Nublado</td>\n",
              "    </tr>\n",
              "    <tr>\n",
              "      <th>325</th>\n",
              "      <td>5837000</td>\n",
              "      <td>8.089113</td>\n",
              "      <td>-76.729160</td>\n",
              "      <td>2022-08-07</td>\n",
              "      <td>00:00</td>\n",
              "      <td>23.3</td>\n",
              "      <td>5.0</td>\n",
              "      <td>190.0</td>\n",
              "      <td>1011.7</td>\n",
              "      <td>21.5</td>\n",
              "      <td>100.0</td>\n",
              "      <td>0.0</td>\n",
              "      <td>0.0</td>\n",
              "      <td>89.3</td>\n",
              "      <td>Nublado</td>\n",
              "    </tr>\n",
              "    <tr>\n",
              "      <th>326</th>\n",
              "      <td>5837000</td>\n",
              "      <td>8.089113</td>\n",
              "      <td>-76.729160</td>\n",
              "      <td>2022-08-07</td>\n",
              "      <td>01:00</td>\n",
              "      <td>23.1</td>\n",
              "      <td>5.0</td>\n",
              "      <td>190.0</td>\n",
              "      <td>1011.0</td>\n",
              "      <td>21.4</td>\n",
              "      <td>100.0</td>\n",
              "      <td>0.0</td>\n",
              "      <td>0.0</td>\n",
              "      <td>90.4</td>\n",
              "      <td>Nublado</td>\n",
              "    </tr>\n",
              "    <tr>\n",
              "      <th>327</th>\n",
              "      <td>5837000</td>\n",
              "      <td>8.089113</td>\n",
              "      <td>-76.729160</td>\n",
              "      <td>2022-08-07</td>\n",
              "      <td>02:00</td>\n",
              "      <td>23.0</td>\n",
              "      <td>4.9</td>\n",
              "      <td>181.3</td>\n",
              "      <td>1010.4</td>\n",
              "      <td>21.5</td>\n",
              "      <td>100.0</td>\n",
              "      <td>0.0</td>\n",
              "      <td>0.0</td>\n",
              "      <td>91.7</td>\n",
              "      <td>Nublado</td>\n",
              "    </tr>\n",
              "  </tbody>\n",
              "</table>\n",
              "<p>328 rows × 15 columns</p>\n",
              "</div>\n",
              "      <button class=\"colab-df-convert\" onclick=\"convertToInteractive('df-4c4cb7d9-b39a-47bf-a0fd-785b5ffcd4c6')\"\n",
              "              title=\"Convert this dataframe to an interactive table.\"\n",
              "              style=\"display:none;\">\n",
              "        \n",
              "  <svg xmlns=\"http://www.w3.org/2000/svg\" height=\"24px\"viewBox=\"0 0 24 24\"\n",
              "       width=\"24px\">\n",
              "    <path d=\"M0 0h24v24H0V0z\" fill=\"none\"/>\n",
              "    <path d=\"M18.56 5.44l.94 2.06.94-2.06 2.06-.94-2.06-.94-.94-2.06-.94 2.06-2.06.94zm-11 1L8.5 8.5l.94-2.06 2.06-.94-2.06-.94L8.5 2.5l-.94 2.06-2.06.94zm10 10l.94 2.06.94-2.06 2.06-.94-2.06-.94-.94-2.06-.94 2.06-2.06.94z\"/><path d=\"M17.41 7.96l-1.37-1.37c-.4-.4-.92-.59-1.43-.59-.52 0-1.04.2-1.43.59L10.3 9.45l-7.72 7.72c-.78.78-.78 2.05 0 2.83L4 21.41c.39.39.9.59 1.41.59.51 0 1.02-.2 1.41-.59l7.78-7.78 2.81-2.81c.8-.78.8-2.07 0-2.86zM5.41 20L4 18.59l7.72-7.72 1.47 1.35L5.41 20z\"/>\n",
              "  </svg>\n",
              "      </button>\n",
              "      \n",
              "  <style>\n",
              "    .colab-df-container {\n",
              "      display:flex;\n",
              "      flex-wrap:wrap;\n",
              "      gap: 12px;\n",
              "    }\n",
              "\n",
              "    .colab-df-convert {\n",
              "      background-color: #E8F0FE;\n",
              "      border: none;\n",
              "      border-radius: 50%;\n",
              "      cursor: pointer;\n",
              "      display: none;\n",
              "      fill: #1967D2;\n",
              "      height: 32px;\n",
              "      padding: 0 0 0 0;\n",
              "      width: 32px;\n",
              "    }\n",
              "\n",
              "    .colab-df-convert:hover {\n",
              "      background-color: #E2EBFA;\n",
              "      box-shadow: 0px 1px 2px rgba(60, 64, 67, 0.3), 0px 1px 3px 1px rgba(60, 64, 67, 0.15);\n",
              "      fill: #174EA6;\n",
              "    }\n",
              "\n",
              "    [theme=dark] .colab-df-convert {\n",
              "      background-color: #3B4455;\n",
              "      fill: #D2E3FC;\n",
              "    }\n",
              "\n",
              "    [theme=dark] .colab-df-convert:hover {\n",
              "      background-color: #434B5C;\n",
              "      box-shadow: 0px 1px 3px 1px rgba(0, 0, 0, 0.15);\n",
              "      filter: drop-shadow(0px 1px 2px rgba(0, 0, 0, 0.3));\n",
              "      fill: #FFFFFF;\n",
              "    }\n",
              "  </style>\n",
              "\n",
              "      <script>\n",
              "        const buttonEl =\n",
              "          document.querySelector('#df-4c4cb7d9-b39a-47bf-a0fd-785b5ffcd4c6 button.colab-df-convert');\n",
              "        buttonEl.style.display =\n",
              "          google.colab.kernel.accessAllowed ? 'block' : 'none';\n",
              "\n",
              "        async function convertToInteractive(key) {\n",
              "          const element = document.querySelector('#df-4c4cb7d9-b39a-47bf-a0fd-785b5ffcd4c6');\n",
              "          const dataTable =\n",
              "            await google.colab.kernel.invokeFunction('convertToInteractive',\n",
              "                                                     [key], {});\n",
              "          if (!dataTable) return;\n",
              "\n",
              "          const docLinkHtml = 'Like what you see? Visit the ' +\n",
              "            '<a target=\"_blank\" href=https://colab.research.google.com/notebooks/data_table.ipynb>data table notebook</a>'\n",
              "            + ' to learn more about interactive tables.';\n",
              "          element.innerHTML = '';\n",
              "          dataTable['output_type'] = 'display_data';\n",
              "          await google.colab.output.renderOutput(dataTable, element);\n",
              "          const docLink = document.createElement('div');\n",
              "          docLink.innerHTML = docLinkHtml;\n",
              "          element.appendChild(docLink);\n",
              "        }\n",
              "      </script>\n",
              "    </div>\n",
              "  </div>\n",
              "  "
            ]
          },
          "metadata": {},
          "execution_count": 20
        }
      ]
    },
    {
      "cell_type": "markdown",
      "source": [
        "## Inferencias del DataFrame\n",
        "\n",
        "+ Las temperaturas se presentan en grados celsius. \n",
        "+  Se presentan pronosticos para cinco dias, desde la fecha actual (2022-08-03) hasta el (2022-08-07).\n",
        "+  El código divipola (Cod_Div) para el municipio de Apartadó es 5045000\n",
        "+ El código divipola (Cod_Div) para el municipio de Carepa es 5147000\n",
        "+ El código divipola (Cod_Div) para el municipio de Turbo es 5837000\n",
        "+ El código divipola (Cod_Div) para el municipio de Chigorodó es 5172000\n",
        "+ Por cada municipio se tomaron 82 datos de cada variable (Excepto de la región).\n",
        "\n"
      ],
      "metadata": {
        "id": "Wz74yFL8WLn4"
      }
    },
    {
      "cell_type": "code",
      "source": [
        "uraba.info()"
      ],
      "metadata": {
        "colab": {
          "base_uri": "https://localhost:8080/"
        },
        "id": "d-aliuSzRLvd",
        "outputId": "01792144-00cf-4a90-a5a0-c7f0ca6fc9e4"
      },
      "execution_count": 6,
      "outputs": [
        {
          "output_type": "stream",
          "name": "stdout",
          "text": [
            "<class 'pandas.core.frame.DataFrame'>\n",
            "RangeIndex: 328 entries, 0 to 327\n",
            "Data columns (total 17 columns):\n",
            " #   Column                    Non-Null Count  Dtype  \n",
            "---  ------                    --------------  -----  \n",
            " 0   Cod_Div                   328 non-null    int64  \n",
            " 1   Latitud                   328 non-null    float64\n",
            " 2   Longitud                  328 non-null    float64\n",
            " 3   Región                    0 non-null      float64\n",
            " 4   Departamento              328 non-null    object \n",
            " 5   Fecha                     328 non-null    object \n",
            " 6   Hora                      328 non-null    object \n",
            " 7   Temperatura               328 non-null    float64\n",
            " 8   Velocidad del Viento      328 non-null    float64\n",
            " 9   Dirección del Viento      328 non-null    float64\n",
            " 10  Presión                   328 non-null    float64\n",
            " 11  Punto de Rocío            328 non-null    float64\n",
            " 12  Cobertura total nubosa    328 non-null    float64\n",
            " 13  Precipitación (mm/h)      328 non-null    float64\n",
            " 14  Probabilidad de Tormenta  328 non-null    float64\n",
            " 15  Humedad                   328 non-null    float64\n",
            " 16  Pronóstico                328 non-null    object \n",
            "dtypes: float64(12), int64(1), object(4)\n",
            "memory usage: 43.7+ KB\n"
          ]
        }
      ]
    },
    {
      "cell_type": "markdown",
      "source": [
        "## Inferencias la sintesis dada por el método info():"
      ],
      "metadata": {
        "id": "IY_4c0FWuliM"
      }
    },
    {
      "cell_type": "markdown",
      "source": [
        "+ Se tomaron 328 datos por variable.\n",
        "+ Solo hay datos faltantantes de región.\n",
        "+ Las variables categóricas son pronóstico y departamento.\n",
        "+ La variable de dirección y velocidad del viento son cuantitativas continuas.\n",
        "+ Las variables cobertura total nubosa, humedad y probabilidad de tormenta son cuantitavas discretas ya que estan expresados en porcentaje.\n"
      ],
      "metadata": {
        "id": "snjo9ThmpCjN"
      }
    },
    {
      "cell_type": "code",
      "source": [
        "uraba.drop([\"Departamento\",\"Región\",], axis=1).describe()"
      ],
      "metadata": {
        "colab": {
          "base_uri": "https://localhost:8080/",
          "height": 296
        },
        "id": "h5Ifazy4DnqH",
        "outputId": "f4875824-3cf8-4012-beff-51d7a0ef9fe1"
      },
      "execution_count": 25,
      "outputs": [
        {
          "output_type": "execute_result",
          "data": {
            "text/plain": [
              "            Cod_Div     Latitud    Longitud  Temperatura  \\\n",
              "count  3.280000e+02  328.000000  328.000000   328.000000   \n",
              "mean   5.300250e+06    7.848445  -76.672369    24.111585   \n",
              "std    3.140021e+05    0.159161    0.038238     2.030784   \n",
              "min    5.045000e+06    7.666301  -76.729160    20.900000   \n",
              "25%    5.121500e+06    7.732912  -76.693201    22.500000   \n",
              "50%    5.159500e+06    7.819183  -76.667213    23.750000   \n",
              "75%    5.338250e+06    7.934716  -76.646381    25.600000   \n",
              "max    5.837000e+06    8.089113  -76.625891    29.900000   \n",
              "\n",
              "       Velocidad del Viento  Dirección del Viento      Presión  \\\n",
              "count            328.000000            328.000000   328.000000   \n",
              "mean               1.980793            194.328659  1010.081098   \n",
              "std                1.022602             21.996895     1.384937   \n",
              "min                0.800000            145.100000  1006.800000   \n",
              "25%                1.300000            180.000000  1009.300000   \n",
              "50%                1.600000            190.000000  1010.300000   \n",
              "75%                2.425000            207.900000  1011.200000   \n",
              "max                6.200000            283.600000  1012.600000   \n",
              "\n",
              "       Punto de Rocío  Cobertura total nubosa  Precipitación (mm/h)  \\\n",
              "count       328.00000              328.000000            328.000000   \n",
              "mean         22.58628               92.218293              0.520732   \n",
              "std           0.92632                9.848692              0.871743   \n",
              "min          20.70000               40.800000              0.000000   \n",
              "25%          21.90000               84.500000              0.000000   \n",
              "50%          22.60000              100.000000              0.000000   \n",
              "75%          23.20000              100.000000              0.800000   \n",
              "max          25.20000              100.000000              4.400000   \n",
              "\n",
              "       Probabilidad de Tormenta     Humedad  \n",
              "count                328.000000  328.000000  \n",
              "mean                   1.402439   91.562195  \n",
              "std                    7.451141    7.083757  \n",
              "min                    0.000000   70.300000  \n",
              "25%                    0.000000   87.175000  \n",
              "50%                    0.000000   93.800000  \n",
              "75%                    0.000000   97.625000  \n",
              "max                   60.000000   99.200000  "
            ],
            "text/html": [
              "\n",
              "  <div id=\"df-95b36c59-8d80-41d1-9d0e-72d1fe46d84f\">\n",
              "    <div class=\"colab-df-container\">\n",
              "      <div>\n",
              "<style scoped>\n",
              "    .dataframe tbody tr th:only-of-type {\n",
              "        vertical-align: middle;\n",
              "    }\n",
              "\n",
              "    .dataframe tbody tr th {\n",
              "        vertical-align: top;\n",
              "    }\n",
              "\n",
              "    .dataframe thead th {\n",
              "        text-align: right;\n",
              "    }\n",
              "</style>\n",
              "<table border=\"1\" class=\"dataframe\">\n",
              "  <thead>\n",
              "    <tr style=\"text-align: right;\">\n",
              "      <th></th>\n",
              "      <th>Cod_Div</th>\n",
              "      <th>Latitud</th>\n",
              "      <th>Longitud</th>\n",
              "      <th>Temperatura</th>\n",
              "      <th>Velocidad del Viento</th>\n",
              "      <th>Dirección del Viento</th>\n",
              "      <th>Presión</th>\n",
              "      <th>Punto de Rocío</th>\n",
              "      <th>Cobertura total nubosa</th>\n",
              "      <th>Precipitación (mm/h)</th>\n",
              "      <th>Probabilidad de Tormenta</th>\n",
              "      <th>Humedad</th>\n",
              "    </tr>\n",
              "  </thead>\n",
              "  <tbody>\n",
              "    <tr>\n",
              "      <th>count</th>\n",
              "      <td>3.280000e+02</td>\n",
              "      <td>328.000000</td>\n",
              "      <td>328.000000</td>\n",
              "      <td>328.000000</td>\n",
              "      <td>328.000000</td>\n",
              "      <td>328.000000</td>\n",
              "      <td>328.000000</td>\n",
              "      <td>328.00000</td>\n",
              "      <td>328.000000</td>\n",
              "      <td>328.000000</td>\n",
              "      <td>328.000000</td>\n",
              "      <td>328.000000</td>\n",
              "    </tr>\n",
              "    <tr>\n",
              "      <th>mean</th>\n",
              "      <td>5.300250e+06</td>\n",
              "      <td>7.848445</td>\n",
              "      <td>-76.672369</td>\n",
              "      <td>24.111585</td>\n",
              "      <td>1.980793</td>\n",
              "      <td>194.328659</td>\n",
              "      <td>1010.081098</td>\n",
              "      <td>22.58628</td>\n",
              "      <td>92.218293</td>\n",
              "      <td>0.520732</td>\n",
              "      <td>1.402439</td>\n",
              "      <td>91.562195</td>\n",
              "    </tr>\n",
              "    <tr>\n",
              "      <th>std</th>\n",
              "      <td>3.140021e+05</td>\n",
              "      <td>0.159161</td>\n",
              "      <td>0.038238</td>\n",
              "      <td>2.030784</td>\n",
              "      <td>1.022602</td>\n",
              "      <td>21.996895</td>\n",
              "      <td>1.384937</td>\n",
              "      <td>0.92632</td>\n",
              "      <td>9.848692</td>\n",
              "      <td>0.871743</td>\n",
              "      <td>7.451141</td>\n",
              "      <td>7.083757</td>\n",
              "    </tr>\n",
              "    <tr>\n",
              "      <th>min</th>\n",
              "      <td>5.045000e+06</td>\n",
              "      <td>7.666301</td>\n",
              "      <td>-76.729160</td>\n",
              "      <td>20.900000</td>\n",
              "      <td>0.800000</td>\n",
              "      <td>145.100000</td>\n",
              "      <td>1006.800000</td>\n",
              "      <td>20.70000</td>\n",
              "      <td>40.800000</td>\n",
              "      <td>0.000000</td>\n",
              "      <td>0.000000</td>\n",
              "      <td>70.300000</td>\n",
              "    </tr>\n",
              "    <tr>\n",
              "      <th>25%</th>\n",
              "      <td>5.121500e+06</td>\n",
              "      <td>7.732912</td>\n",
              "      <td>-76.693201</td>\n",
              "      <td>22.500000</td>\n",
              "      <td>1.300000</td>\n",
              "      <td>180.000000</td>\n",
              "      <td>1009.300000</td>\n",
              "      <td>21.90000</td>\n",
              "      <td>84.500000</td>\n",
              "      <td>0.000000</td>\n",
              "      <td>0.000000</td>\n",
              "      <td>87.175000</td>\n",
              "    </tr>\n",
              "    <tr>\n",
              "      <th>50%</th>\n",
              "      <td>5.159500e+06</td>\n",
              "      <td>7.819183</td>\n",
              "      <td>-76.667213</td>\n",
              "      <td>23.750000</td>\n",
              "      <td>1.600000</td>\n",
              "      <td>190.000000</td>\n",
              "      <td>1010.300000</td>\n",
              "      <td>22.60000</td>\n",
              "      <td>100.000000</td>\n",
              "      <td>0.000000</td>\n",
              "      <td>0.000000</td>\n",
              "      <td>93.800000</td>\n",
              "    </tr>\n",
              "    <tr>\n",
              "      <th>75%</th>\n",
              "      <td>5.338250e+06</td>\n",
              "      <td>7.934716</td>\n",
              "      <td>-76.646381</td>\n",
              "      <td>25.600000</td>\n",
              "      <td>2.425000</td>\n",
              "      <td>207.900000</td>\n",
              "      <td>1011.200000</td>\n",
              "      <td>23.20000</td>\n",
              "      <td>100.000000</td>\n",
              "      <td>0.800000</td>\n",
              "      <td>0.000000</td>\n",
              "      <td>97.625000</td>\n",
              "    </tr>\n",
              "    <tr>\n",
              "      <th>max</th>\n",
              "      <td>5.837000e+06</td>\n",
              "      <td>8.089113</td>\n",
              "      <td>-76.625891</td>\n",
              "      <td>29.900000</td>\n",
              "      <td>6.200000</td>\n",
              "      <td>283.600000</td>\n",
              "      <td>1012.600000</td>\n",
              "      <td>25.20000</td>\n",
              "      <td>100.000000</td>\n",
              "      <td>4.400000</td>\n",
              "      <td>60.000000</td>\n",
              "      <td>99.200000</td>\n",
              "    </tr>\n",
              "  </tbody>\n",
              "</table>\n",
              "</div>\n",
              "      <button class=\"colab-df-convert\" onclick=\"convertToInteractive('df-95b36c59-8d80-41d1-9d0e-72d1fe46d84f')\"\n",
              "              title=\"Convert this dataframe to an interactive table.\"\n",
              "              style=\"display:none;\">\n",
              "        \n",
              "  <svg xmlns=\"http://www.w3.org/2000/svg\" height=\"24px\"viewBox=\"0 0 24 24\"\n",
              "       width=\"24px\">\n",
              "    <path d=\"M0 0h24v24H0V0z\" fill=\"none\"/>\n",
              "    <path d=\"M18.56 5.44l.94 2.06.94-2.06 2.06-.94-2.06-.94-.94-2.06-.94 2.06-2.06.94zm-11 1L8.5 8.5l.94-2.06 2.06-.94-2.06-.94L8.5 2.5l-.94 2.06-2.06.94zm10 10l.94 2.06.94-2.06 2.06-.94-2.06-.94-.94-2.06-.94 2.06-2.06.94z\"/><path d=\"M17.41 7.96l-1.37-1.37c-.4-.4-.92-.59-1.43-.59-.52 0-1.04.2-1.43.59L10.3 9.45l-7.72 7.72c-.78.78-.78 2.05 0 2.83L4 21.41c.39.39.9.59 1.41.59.51 0 1.02-.2 1.41-.59l7.78-7.78 2.81-2.81c.8-.78.8-2.07 0-2.86zM5.41 20L4 18.59l7.72-7.72 1.47 1.35L5.41 20z\"/>\n",
              "  </svg>\n",
              "      </button>\n",
              "      \n",
              "  <style>\n",
              "    .colab-df-container {\n",
              "      display:flex;\n",
              "      flex-wrap:wrap;\n",
              "      gap: 12px;\n",
              "    }\n",
              "\n",
              "    .colab-df-convert {\n",
              "      background-color: #E8F0FE;\n",
              "      border: none;\n",
              "      border-radius: 50%;\n",
              "      cursor: pointer;\n",
              "      display: none;\n",
              "      fill: #1967D2;\n",
              "      height: 32px;\n",
              "      padding: 0 0 0 0;\n",
              "      width: 32px;\n",
              "    }\n",
              "\n",
              "    .colab-df-convert:hover {\n",
              "      background-color: #E2EBFA;\n",
              "      box-shadow: 0px 1px 2px rgba(60, 64, 67, 0.3), 0px 1px 3px 1px rgba(60, 64, 67, 0.15);\n",
              "      fill: #174EA6;\n",
              "    }\n",
              "\n",
              "    [theme=dark] .colab-df-convert {\n",
              "      background-color: #3B4455;\n",
              "      fill: #D2E3FC;\n",
              "    }\n",
              "\n",
              "    [theme=dark] .colab-df-convert:hover {\n",
              "      background-color: #434B5C;\n",
              "      box-shadow: 0px 1px 3px 1px rgba(0, 0, 0, 0.15);\n",
              "      filter: drop-shadow(0px 1px 2px rgba(0, 0, 0, 0.3));\n",
              "      fill: #FFFFFF;\n",
              "    }\n",
              "  </style>\n",
              "\n",
              "      <script>\n",
              "        const buttonEl =\n",
              "          document.querySelector('#df-95b36c59-8d80-41d1-9d0e-72d1fe46d84f button.colab-df-convert');\n",
              "        buttonEl.style.display =\n",
              "          google.colab.kernel.accessAllowed ? 'block' : 'none';\n",
              "\n",
              "        async function convertToInteractive(key) {\n",
              "          const element = document.querySelector('#df-95b36c59-8d80-41d1-9d0e-72d1fe46d84f');\n",
              "          const dataTable =\n",
              "            await google.colab.kernel.invokeFunction('convertToInteractive',\n",
              "                                                     [key], {});\n",
              "          if (!dataTable) return;\n",
              "\n",
              "          const docLinkHtml = 'Like what you see? Visit the ' +\n",
              "            '<a target=\"_blank\" href=https://colab.research.google.com/notebooks/data_table.ipynb>data table notebook</a>'\n",
              "            + ' to learn more about interactive tables.';\n",
              "          element.innerHTML = '';\n",
              "          dataTable['output_type'] = 'display_data';\n",
              "          await google.colab.output.renderOutput(dataTable, element);\n",
              "          const docLink = document.createElement('div');\n",
              "          docLink.innerHTML = docLinkHtml;\n",
              "          element.appendChild(docLink);\n",
              "        }\n",
              "      </script>\n",
              "    </div>\n",
              "  </div>\n",
              "  "
            ]
          },
          "metadata": {},
          "execution_count": 25
        }
      ]
    },
    {
      "cell_type": "markdown",
      "source": [
        "## Interpretación de tabla \n",
        "+ La temperatura media en estos 5 dias los municipios del eje bananero fue 24.11°C \n",
        "\n",
        "+ La media y mediana es cercana o igual en todas las variables exceptuando la variable precipitación y probabilidad de tormenta.\n",
        "+ La cobertura nubosa minima en estos dias fue del 50% llegando hasta un 100%.\n",
        "+ La media de precipitación por hora es alta por lo que se preveen lluvias abundantes en este lapso de tiempo. \n",
        "+ Las temperaturas pronosticadas esta entre el 70% y 99,2%"
      ],
      "metadata": {
        "id": "hCFeo1VmD2g7"
      }
    },
    {
      "cell_type": "markdown",
      "source": [
        "# Visualización gráfica para variables categóricas"
      ],
      "metadata": {
        "id": "qnQmn5EUTj5H"
      }
    },
    {
      "cell_type": "code",
      "source": [
        "uraba.keys()"
      ],
      "metadata": {
        "colab": {
          "base_uri": "https://localhost:8080/"
        },
        "id": "xddmcczuVamP",
        "outputId": "c9a695c1-f927-4f4c-fd98-aca0a65b328c"
      },
      "execution_count": 8,
      "outputs": [
        {
          "output_type": "execute_result",
          "data": {
            "text/plain": [
              "Index(['Cod_Div', 'Latitud', 'Longitud', 'Región', 'Departamento', 'Fecha',\n",
              "       'Hora', 'Temperatura', 'Velocidad del Viento', 'Dirección del Viento',\n",
              "       'Presión', 'Punto de Rocío', 'Cobertura total nubosa',\n",
              "       'Precipitación (mm/h)', 'Probabilidad de Tormenta', 'Humedad',\n",
              "       'Pronóstico '],\n",
              "      dtype='object')"
            ]
          },
          "metadata": {},
          "execution_count": 8
        }
      ]
    },
    {
      "cell_type": "code",
      "source": [
        "uraba['Pronóstico '].value_counts().plot(kind = 'bar') "
      ],
      "metadata": {
        "id": "J2ck6azzbONu",
        "colab": {
          "base_uri": "https://localhost:8080/",
          "height": 472
        },
        "outputId": "f8855406-878a-497c-e653-a6618e5b9f98"
      },
      "execution_count": 28,
      "outputs": [
        {
          "output_type": "execute_result",
          "data": {
            "text/plain": [
              "<matplotlib.axes._subplots.AxesSubplot at 0x7ffaad243e90>"
            ]
          },
          "metadata": {},
          "execution_count": 28
        },
        {
          "output_type": "display_data",
          "data": {
            "text/plain": [
              "<Figure size 432x288 with 1 Axes>"
            ],
            "image/png": "[encoded data removed]"
          },
          "metadata": {
            "needs_background": "light"
          }
        }
      ]
    },
    {
      "cell_type": "markdown",
      "source": [
        "## Inferencias gráfico de barras\n",
        "+ Se presentan 10 tipos de pronóstico.\n",
        "+ El pronóstico más frecuente es de cielo nublado.\n",
        "+ El pronóstico menos frecuente es el de Nublado-Tormenta.\n",
        "+ La mayor parte del este tiempo se pronóstica nublado con sus respectivas variaciones.(Con lluvia, llovizna, lluvia fuerte y tormenta ligera).\n",
        " \n"
      ],
      "metadata": {
        "id": "yyQzBS1Wu1po"
      }
    },
    {
      "cell_type": "code",
      "source": [
        "uraba['Pronóstico '].value_counts().plot(kind = 'pie',figsize=(20,10), fontsize=8)"
      ],
      "metadata": {
        "colab": {
          "base_uri": "https://localhost:8080/",
          "height": 592
        },
        "id": "6imlriJmT2nR",
        "outputId": "95dcce53-ef72-47dd-d3fd-f3c7849b7ad8"
      },
      "execution_count": 10,
      "outputs": [
        {
          "output_type": "execute_result",
          "data": {
            "text/plain": [
              "<matplotlib.axes._subplots.AxesSubplot at 0x7ffaaf996050>"
            ]
          },
          "metadata": {},
          "execution_count": 10
        },
        {
          "output_type": "display_data",
          "data": {
            "text/plain": [
              "<Figure size 1440x720 with 1 Axes>"
            ],
            "image/png": "[encoded data removed]"
          },
          "metadata": {}
        }
      ]
    },
    {
      "cell_type": "code",
      "source": [
        "uraba['Pronóstico '].value_counts()"
      ],
      "metadata": {
        "colab": {
          "base_uri": "https://localhost:8080/"
        },
        "id": "YiNPZ7CjLTjY",
        "outputId": "283a93a6-a521-4981-904c-7504e0b3c2af"
      },
      "execution_count": 21,
      "outputs": [
        {
          "output_type": "execute_result",
          "data": {
            "text/plain": [
              "Nublado                                   184\n",
              "Nublado - Lluvia                           80\n",
              "Nublado - Llovizna                         37\n",
              "Parcialmente Nublado - Lluvia Fuerte       10\n",
              "Parcialmente Nublado - Tormenta Ligera      6\n",
              "Nublado - Lluvia Fuerte                     4\n",
              "Parcialmente Nublado                        2\n",
              "Parcialmente Nublado - Llovizna             2\n",
              "Nublado - Tormenta Ligera                   2\n",
              "Parcialmente Nublado - Tormenta             1\n",
              "Name: Pronóstico , dtype: int64"
            ]
          },
          "metadata": {},
          "execution_count": 21
        }
      ]
    },
    {
      "cell_type": "markdown",
      "source": [
        "## Interpretación gráfica de pastel\n",
        "+ Más de la mitad del tiempo se pronóstica como nublado.\n",
        "+ Una cuarta parte del tiempo se pronóstica como nublado-lluvia.\n",
        "+ Se espera que la mayor parte de este tiempo sea con lluvia o llovizna.\n",
        "+ El pronóstico menos frecuente es parcialmente nublado con tormentas."
      ],
      "metadata": {
        "id": "4LD4603_4CEp"
      }
    },
    {
      "cell_type": "markdown",
      "source": [
        "# Visualización para variables cuantitativas continuas"
      ],
      "metadata": {
        "id": "3FPg5SPsUzrx"
      }
    },
    {
      "cell_type": "code",
      "source": [
        "uraba['Dirección del Viento'].plot(kind = 'hist', bins = 10) "
      ],
      "metadata": {
        "colab": {
          "base_uri": "https://localhost:8080/",
          "height": 282
        },
        "id": "Z2QYyep0U5SB",
        "outputId": "227d9e79-9e16-400a-efc0-0681fe1760fb"
      },
      "execution_count": 11,
      "outputs": [
        {
          "output_type": "execute_result",
          "data": {
            "text/plain": [
              "<matplotlib.axes._subplots.AxesSubplot at 0x7ffaaf4cf390>"
            ]
          },
          "metadata": {},
          "execution_count": 11
        },
        {
          "output_type": "display_data",
          "data": {
            "text/plain": [
              "<Figure size 432x288 with 1 Axes>"
            ],
            "image/png": "[encoded data removed]"
          },
          "metadata": {
            "needs_background": "light"
          }
        }
      ]
    },
    {
      "cell_type": "markdown",
      "source": [
        "###Interpretación histograma\n",
        "**Basado en las unidades de medida del viento**\n",
        "\n",
        "0° = Norte (viento Norte) \n",
        "45° = Noreste (viento Noreste) \n",
        "90° = Leste (viento Leste) \n",
        "135° = Sudeste (viento Sudeste) \n",
        "180° = Sur (viento Sur) \n",
        "225 ° = Suroeste (viento Suroeste ) \n",
        "270 ° = Oeste (viento Oeste) \n",
        "315° = Noroeste (viento Noroeste) \n",
        "360° = Norte \n",
        "+ Deducimos que:\n",
        " + La mayor parte del tiempo el viento provendra del sur o sureste.\n",
        " + Los vientos provendran del Sudeste, Sur, Sureste y Oeste.\n",
        " + Casi no habra vientos provenientes del Noreste y del norte."
      ],
      "metadata": {
        "id": "OmD4SH-arg8O"
      }
    },
    {
      "cell_type": "code",
      "source": [
        "import matplotlib.pyplot as plt \n",
        "uraba.drop([\"Cod_Div\",\"Región\"], axis=1).hist(figsize = (20,10))\n",
        "plt.show()"
      ],
      "metadata": {
        "colab": {
          "base_uri": "https://localhost:8080/",
          "height": 607
        },
        "id": "DjeQq-lLGJOD",
        "outputId": "f3655578-5127-4cde-86e3-912c51d23468"
      },
      "execution_count": 13,
      "outputs": [
        {
          "output_type": "display_data",
          "data": {
            "text/plain": [
              "<Figure size 1440x720 with 12 Axes>"
            ],
            "image/png": "[encoded data removed]"
          },
          "metadata": {
            "needs_background": "light"
          }
        }
      ]
    },
    {
      "cell_type": "markdown",
      "source": [
        "# Interpretación matriz de histogramas.\n",
        "+ La probabilidad de tormenta está mayormente entre el o% y 5%.\n",
        "+ La humedad pronosticada está por encima del 70%.\n",
        "+ Las temperatura media esperada esta entre 22°C y 24°C.\n",
        "+ La cobertura nubosa en su mayoria estará por encima del 95%.\n",
        "+ Se pronostican vientos suaves."
      ],
      "metadata": {
        "id": "n935eeR-OkP6"
      }
    },
    {
      "cell_type": "markdown",
      "source": [
        "# Diagrama de dispersión para ver la relación entre las variables cuantitativas continuas de precipitación y humedad"
      ],
      "metadata": {
        "id": "SDt-k2RGVUtV"
      }
    },
    {
      "cell_type": "code",
      "source": [
        "uraba['Precipitación (mm/h)']"
      ],
      "metadata": {
        "colab": {
          "base_uri": "https://localhost:8080/"
        },
        "id": "CBNaUZvCU89E",
        "outputId": "a563b856-e51e-4efe-b124-82e3e9027ef5"
      },
      "execution_count": 14,
      "outputs": [
        {
          "output_type": "execute_result",
          "data": {
            "text/plain": [
              "0      1.1\n",
              "1      1.1\n",
              "2      1.2\n",
              "3      0.6\n",
              "4      0.0\n",
              "      ... \n",
              "323    0.0\n",
              "324    0.0\n",
              "325    0.0\n",
              "326    0.0\n",
              "327    0.0\n",
              "Name: Precipitación (mm/h), Length: 328, dtype: float64"
            ]
          },
          "metadata": {},
          "execution_count": 14
        }
      ]
    },
    {
      "cell_type": "code",
      "source": [
        "import numpy as np \n",
        "uraba.Humedad "
      ],
      "metadata": {
        "colab": {
          "base_uri": "https://localhost:8080/"
        },
        "id": "PRMllowAVdAQ",
        "outputId": "bfd0e92d-cdfc-4efd-bc97-a0760c970c0f"
      },
      "execution_count": 15,
      "outputs": [
        {
          "output_type": "execute_result",
          "data": {
            "text/plain": [
              "0      91.4\n",
              "1      92.9\n",
              "2      93.7\n",
              "3      94.7\n",
              "4      95.8\n",
              "       ... \n",
              "323    88.4\n",
              "324    88.9\n",
              "325    89.3\n",
              "326    90.4\n",
              "327    91.7\n",
              "Name: Humedad, Length: 328, dtype: float64"
            ]
          },
          "metadata": {},
          "execution_count": 15
        }
      ]
    },
    {
      "cell_type": "markdown",
      "source": [
        "+ En general se presenta un porcentaje de humedad muy alto por el contrario los valores de las ultimas precipitaciones es 0 (mm/h).\n",
        "+ Personalmente creo que se deben hacer otro tipo de analisis para establecer la correlación entre estas dos variables."
      ],
      "metadata": {
        "id": "3V1fWkOA7UzX"
      }
    },
    {
      "cell_type": "code",
      "source": [
        "import pandas as pd\n",
        "import matplotlib.pyplot as plt\n",
        "import seaborn as sns\n",
        "plt.figure(figsize=(20,10))\n",
        "sns.heatmap(uraba.corr(), vmin = -1, vmax = +1, annot = True, cmap = 'coolwarm')\n"
      ],
      "metadata": {
        "colab": {
          "base_uri": "https://localhost:8080/",
          "height": 730
        },
        "id": "D6pg6wIJ884V",
        "outputId": "4011c79b-9391-44e1-dce2-bdb0c2bdf8b3"
      },
      "execution_count": 99,
      "outputs": [
        {
          "output_type": "execute_result",
          "data": {
            "text/plain": [
              "<matplotlib.axes._subplots.AxesSubplot at 0x7ffa96bc5a50>"
            ]
          },
          "metadata": {},
          "execution_count": 99
        },
        {
          "output_type": "display_data",
          "data": {
            "text/plain": [
              "<Figure size 1440x720 with 2 Axes>"
            ],
            "image/png": "[encoded data removed]"
          },
          "metadata": {
            "needs_background": "light"
          }
        }
      ]
    },
    {
      "cell_type": "markdown",
      "source": [
        "**Interpretación matriz de correlaciones**\n",
        "+ En esta matriz de correlaciones se aprecia que la humedad y la precipitación presentan una correlación negativa poco significativa.\n",
        "+ La temperatura y humedad tienen una correlación positiva.\n",
        "+ La ubicación esta relacionada con la velocidad del viento.\n",
        "+ Hay una correlación positiva entre la temperatura y el punto de rocio."
      ],
      "metadata": {
        "id": "w-HmZalJA-cw"
      }
    },
    {
      "cell_type": "code",
      "source": [
        "import matplotlib.pyplot as plt\n",
        "plt.figure(figsize = (16, 7))\n",
        "plt.scatter(uraba.Temperatura, uraba['Precipitación (mm/h)'])\n",
        "plt.xlabel('Temperatura en el eje bananero entre el 03 y 07 de agosto de 2022')\n",
        "plt.ylabel('Precipitación (mm/h)') \n",
        "plt.xticks(np.arange(22, 33, 0.5))\n",
        "\n",
        "plt.show() "
      ],
      "metadata": {
        "colab": {
          "base_uri": "https://localhost:8080/",
          "height": 442
        },
        "id": "LwHgwSgcVq9T",
        "outputId": "b2a0bd29-0554-4c8d-b948-ef12cec95591"
      },
      "execution_count": 79,
      "outputs": [
        {
          "output_type": "display_data",
          "data": {
            "text/plain": [
              "<Figure size 1152x504 with 1 Axes>"
            ],
            "image/png": "[encoded data removed]"
          },
          "metadata": {
            "needs_background": "light"
          }
        }
      ]
    },
    {
      "cell_type": "markdown",
      "source": [
        "+ En las horas con más precipitaciones las temperaturas oscilan entre los 25°C y los 28.5°C.\n",
        "+ Las precipitaciones pronosticadas estan entre 0 y 4.5 (mm/h).\n",
        "+ Las temperaturas pronosticadas oscilan entre 21°C y 30°C\n",
        "+ La mayoria de las precipitaciones estan entre 0 y 1 (mm/h)"
      ],
      "metadata": {
        "id": "2Xm0rv6onni0"
      }
    },
    {
      "cell_type": "code",
      "source": [
        "uraba.Temperatura.min(), uraba.Temperatura.max() "
      ],
      "metadata": {
        "colab": {
          "base_uri": "https://localhost:8080/"
        },
        "id": "1ceFHLyOWJPQ",
        "outputId": "7c351a1b-de56-4ac8-d21d-3ffdeb8108e1"
      },
      "execution_count": 19,
      "outputs": [
        {
          "output_type": "execute_result",
          "data": {
            "text/plain": [
              "(20.9, 29.9)"
            ]
          },
          "metadata": {},
          "execution_count": 19
        }
      ]
    },
    {
      "cell_type": "markdown",
      "source": [
        "##Fuentes de información\n",
        "+ https://content.meteoblue.com/es/especificaciones/variables-meteorologicas/viento.\n",
        "+ http://www.pronosticosyalertas.gov.co/datos-abiertos-ideam\n"
      ],
      "metadata": {
        "id": "-n4uyFVDvTHo"
      }
    },
    {
      "cell_type": "code",
      "source": [
        ""
      ],
      "metadata": {
        "id": "6TfgGODQiNBC"
      },
      "execution_count": null,
      "outputs": []
    }
  ]
}
