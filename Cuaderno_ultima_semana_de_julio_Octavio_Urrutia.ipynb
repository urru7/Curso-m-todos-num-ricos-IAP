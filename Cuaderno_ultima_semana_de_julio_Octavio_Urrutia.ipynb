{
  "nbformat": 4,
  "nbformat_minor": 0,
  "metadata": {
    "colab": {
      "name": "Cuaderno_ultima_semana_de_julio_Octavio_Urrutia.ipynb",
      "provenance": [],
      "include_colab_link": true
    },
    "kernelspec": {
      "name": "python3",
      "display_name": "Python 3"
    },
    "language_info": {
      "name": "python"
    }
  },
  "cells": [
    {
      "cell_type": "markdown",
      "metadata": {
        "id": "view-in-github",
        "colab_type": "text"
      },
      "source": [
        "<a href=\"https://colab.research.google.com/github/urru7/Curso-m-todos-num-ricos-IAP/blob/main/Cuaderno_ultima_semana_de_julio_Octavio_Urrutia.ipynb\" target=\"_parent\"><img src=\"https://colab.research.google.com/assets/colab-badge.svg\" alt=\"Open In Colab\"/></a>"
      ]
    },
    {
      "cell_type": "markdown",
      "source": [
        "# Datos metereológicos de Apartadó proporcionados por el IDEAM\n",
        "\n",
        "Analisis ralizado por **Octavio Urrutia Urango**, estudiante Ingeniería Agropecuaria de la Universidad de Antioquia, seccional Urabá"
      ],
      "metadata": {
        "id": "1Ljnlz4rTjSK"
      }
    },
    {
      "cell_type": "code",
      "execution_count": 1,
      "metadata": {
        "id": "eJss_pZtHSeI"
      },
      "outputs": [],
      "source": [
        "url=\"https://raw.githubusercontent.com/urru7/Curso-m-todos-num-ricos-IAP/main/APARTAD%C3%93.csv\""
      ]
    },
    {
      "cell_type": "code",
      "source": [
        "import pandas as pd\n"
      ],
      "metadata": {
        "id": "V4VD9Om7MEIW"
      },
      "execution_count": 2,
      "outputs": []
    },
    {
      "cell_type": "code",
      "source": [
        "apartadó=pd.read_csv(url, encoding =\"latin-1\")"
      ],
      "metadata": {
        "id": "8jZBFm5TQB-t"
      },
      "execution_count": 3,
      "outputs": []
    },
    {
      "cell_type": "code",
      "source": [
        "apartadó"
      ],
      "metadata": {
        "colab": {
          "base_uri": "https://localhost:8080/",
          "height": 696
        },
        "id": "-BsgNlbIQTyT",
        "outputId": "86e0eaca-7025-4fe0-fa50-a7db38730a49"
      },
      "execution_count": 4,
      "outputs": [
        {
          "output_type": "execute_result",
          "data": {
            "text/plain": [
              "    Cod_Div   Latitud   Longitud  Región Departamento       Fecha   Hora  \\\n",
              "0   5045000  7.883251 -76.625891     NaN    ANTIOQUIA  2022-08-01  23:00   \n",
              "1   5045000  7.883251 -76.625891     NaN    ANTIOQUIA  2022-08-02  00:00   \n",
              "2   5045000  7.883251 -76.625891     NaN    ANTIOQUIA  2022-08-02  01:00   \n",
              "3   5045000  7.883251 -76.625891     NaN    ANTIOQUIA  2022-08-02  02:00   \n",
              "4   5045000  7.883251 -76.625891     NaN    ANTIOQUIA  2022-08-02  03:00   \n",
              "..      ...       ...        ...     ...          ...         ...    ...   \n",
              "78  5045000  7.883251 -76.625891     NaN    ANTIOQUIA  2022-08-05  05:00   \n",
              "79  5045000  7.883251 -76.625891     NaN    ANTIOQUIA  2022-08-05  06:00   \n",
              "80  5045000  7.883251 -76.625891     NaN    ANTIOQUIA  2022-08-05  07:00   \n",
              "81  5045000  7.883251 -76.625891     NaN    ANTIOQUIA  2022-08-05  08:00   \n",
              "82  5045000  7.883251 -76.625891     NaN    ANTIOQUIA  2022-08-05  09:00   \n",
              "\n",
              "    Temperatura  Velocidad del Viento  Dirección del Viento  Presión  \\\n",
              "0          23.2                   1.9                 193.9   1012.0   \n",
              "1          22.9                   2.0                 193.9   1011.4   \n",
              "2          22.7                   2.2                 193.9   1010.8   \n",
              "3          22.5                   2.1                 193.5   1011.0   \n",
              "4          22.4                   2.0                 200.0   1010.6   \n",
              "..          ...                   ...                   ...      ...   \n",
              "78         21.5                   1.8                 190.0   1010.0   \n",
              "79         21.5                   1.6                 190.0   1010.3   \n",
              "80         22.1                   1.5                 190.0   1010.6   \n",
              "81         23.3                   1.9                 210.0   1011.2   \n",
              "82         24.8                   2.2                 213.9   1011.5   \n",
              "\n",
              "    Punto de Rocío  Cobertura total nubosa  Precipitación (mm/h)  \\\n",
              "0             22.4                   100.0                   0.0   \n",
              "1             22.3                   100.0                   0.4   \n",
              "2             22.2                    90.7                   0.4   \n",
              "3             22.4                    90.7                   0.4   \n",
              "4             22.4                    90.7                   0.2   \n",
              "..             ...                     ...                   ...   \n",
              "78            21.2                    59.6                   0.0   \n",
              "79            21.2                    60.0                   0.0   \n",
              "80            21.6                    60.0                   0.0   \n",
              "81            22.2                   100.0                   0.0   \n",
              "82            22.4                   100.0                   0.0   \n",
              "\n",
              "    Probabilidad de Tormenta Humedad           Pronóstico   \n",
              "0                        0.0    95.6               Nublado  \n",
              "1                        0.0    96.3    Nublado - Llovizna  \n",
              "2                        0.0    96.8    Nublado - Llovizna  \n",
              "3                        0.0       -    Nublado - Llovizna  \n",
              "4                        0.0       -    Nublado - Llovizna  \n",
              "..                       ...     ...                   ...  \n",
              "78                       0.0    98.1  Parcialmente Nublado  \n",
              "79                       0.0    98.0  Parcialmente Nublado  \n",
              "80                       0.0    97.0  Parcialmente Nublado  \n",
              "81                       0.0    93.2               Nublado  \n",
              "82                       0.0    86.3               Nublado  \n",
              "\n",
              "[83 rows x 17 columns]"
            ],
            "text/html": [
              "\n",
              "  <div id=\"df-ba35212e-6183-49fd-b127-afecf8b831c6\">\n",
              "    <div class=\"colab-df-container\">\n",
              "      <div>\n",
              "<style scoped>\n",
              "    .dataframe tbody tr th:only-of-type {\n",
              "        vertical-align: middle;\n",
              "    }\n",
              "\n",
              "    .dataframe tbody tr th {\n",
              "        vertical-align: top;\n",
              "    }\n",
              "\n",
              "    .dataframe thead th {\n",
              "        text-align: right;\n",
              "    }\n",
              "</style>\n",
              "<table border=\"1\" class=\"dataframe\">\n",
              "  <thead>\n",
              "    <tr style=\"text-align: right;\">\n",
              "      <th></th>\n",
              "      <th>Cod_Div</th>\n",
              "      <th>Latitud</th>\n",
              "      <th>Longitud</th>\n",
              "      <th>Región</th>\n",
              "      <th>Departamento</th>\n",
              "      <th>Fecha</th>\n",
              "      <th>Hora</th>\n",
              "      <th>Temperatura</th>\n",
              "      <th>Velocidad del Viento</th>\n",
              "      <th>Dirección del Viento</th>\n",
              "      <th>Presión</th>\n",
              "      <th>Punto de Rocío</th>\n",
              "      <th>Cobertura total nubosa</th>\n",
              "      <th>Precipitación (mm/h)</th>\n",
              "      <th>Probabilidad de Tormenta</th>\n",
              "      <th>Humedad</th>\n",
              "      <th>Pronóstico</th>\n",
              "    </tr>\n",
              "  </thead>\n",
              "  <tbody>\n",
              "    <tr>\n",
              "      <th>0</th>\n",
              "      <td>5045000</td>\n",
              "      <td>7.883251</td>\n",
              "      <td>-76.625891</td>\n",
              "      <td>NaN</td>\n",
              "      <td>ANTIOQUIA</td>\n",
              "      <td>2022-08-01</td>\n",
              "      <td>23:00</td>\n",
              "      <td>23.2</td>\n",
              "      <td>1.9</td>\n",
              "      <td>193.9</td>\n",
              "      <td>1012.0</td>\n",
              "      <td>22.4</td>\n",
              "      <td>100.0</td>\n",
              "      <td>0.0</td>\n",
              "      <td>0.0</td>\n",
              "      <td>95.6</td>\n",
              "      <td>Nublado</td>\n",
              "    </tr>\n",
              "    <tr>\n",
              "      <th>1</th>\n",
              "      <td>5045000</td>\n",
              "      <td>7.883251</td>\n",
              "      <td>-76.625891</td>\n",
              "      <td>NaN</td>\n",
              "      <td>ANTIOQUIA</td>\n",
              "      <td>2022-08-02</td>\n",
              "      <td>00:00</td>\n",
              "      <td>22.9</td>\n",
              "      <td>2.0</td>\n",
              "      <td>193.9</td>\n",
              "      <td>1011.4</td>\n",
              "      <td>22.3</td>\n",
              "      <td>100.0</td>\n",
              "      <td>0.4</td>\n",
              "      <td>0.0</td>\n",
              "      <td>96.3</td>\n",
              "      <td>Nublado - Llovizna</td>\n",
              "    </tr>\n",
              "    <tr>\n",
              "      <th>2</th>\n",
              "      <td>5045000</td>\n",
              "      <td>7.883251</td>\n",
              "      <td>-76.625891</td>\n",
              "      <td>NaN</td>\n",
              "      <td>ANTIOQUIA</td>\n",
              "      <td>2022-08-02</td>\n",
              "      <td>01:00</td>\n",
              "      <td>22.7</td>\n",
              "      <td>2.2</td>\n",
              "      <td>193.9</td>\n",
              "      <td>1010.8</td>\n",
              "      <td>22.2</td>\n",
              "      <td>90.7</td>\n",
              "      <td>0.4</td>\n",
              "      <td>0.0</td>\n",
              "      <td>96.8</td>\n",
              "      <td>Nublado - Llovizna</td>\n",
              "    </tr>\n",
              "    <tr>\n",
              "      <th>3</th>\n",
              "      <td>5045000</td>\n",
              "      <td>7.883251</td>\n",
              "      <td>-76.625891</td>\n",
              "      <td>NaN</td>\n",
              "      <td>ANTIOQUIA</td>\n",
              "      <td>2022-08-02</td>\n",
              "      <td>02:00</td>\n",
              "      <td>22.5</td>\n",
              "      <td>2.1</td>\n",
              "      <td>193.5</td>\n",
              "      <td>1011.0</td>\n",
              "      <td>22.4</td>\n",
              "      <td>90.7</td>\n",
              "      <td>0.4</td>\n",
              "      <td>0.0</td>\n",
              "      <td>-</td>\n",
              "      <td>Nublado - Llovizna</td>\n",
              "    </tr>\n",
              "    <tr>\n",
              "      <th>4</th>\n",
              "      <td>5045000</td>\n",
              "      <td>7.883251</td>\n",
              "      <td>-76.625891</td>\n",
              "      <td>NaN</td>\n",
              "      <td>ANTIOQUIA</td>\n",
              "      <td>2022-08-02</td>\n",
              "      <td>03:00</td>\n",
              "      <td>22.4</td>\n",
              "      <td>2.0</td>\n",
              "      <td>200.0</td>\n",
              "      <td>1010.6</td>\n",
              "      <td>22.4</td>\n",
              "      <td>90.7</td>\n",
              "      <td>0.2</td>\n",
              "      <td>0.0</td>\n",
              "      <td>-</td>\n",
              "      <td>Nublado - Llovizna</td>\n",
              "    </tr>\n",
              "    <tr>\n",
              "      <th>...</th>\n",
              "      <td>...</td>\n",
              "      <td>...</td>\n",
              "      <td>...</td>\n",
              "      <td>...</td>\n",
              "      <td>...</td>\n",
              "      <td>...</td>\n",
              "      <td>...</td>\n",
              "      <td>...</td>\n",
              "      <td>...</td>\n",
              "      <td>...</td>\n",
              "      <td>...</td>\n",
              "      <td>...</td>\n",
              "      <td>...</td>\n",
              "      <td>...</td>\n",
              "      <td>...</td>\n",
              "      <td>...</td>\n",
              "      <td>...</td>\n",
              "    </tr>\n",
              "    <tr>\n",
              "      <th>78</th>\n",
              "      <td>5045000</td>\n",
              "      <td>7.883251</td>\n",
              "      <td>-76.625891</td>\n",
              "      <td>NaN</td>\n",
              "      <td>ANTIOQUIA</td>\n",
              "      <td>2022-08-05</td>\n",
              "      <td>05:00</td>\n",
              "      <td>21.5</td>\n",
              "      <td>1.8</td>\n",
              "      <td>190.0</td>\n",
              "      <td>1010.0</td>\n",
              "      <td>21.2</td>\n",
              "      <td>59.6</td>\n",
              "      <td>0.0</td>\n",
              "      <td>0.0</td>\n",
              "      <td>98.1</td>\n",
              "      <td>Parcialmente Nublado</td>\n",
              "    </tr>\n",
              "    <tr>\n",
              "      <th>79</th>\n",
              "      <td>5045000</td>\n",
              "      <td>7.883251</td>\n",
              "      <td>-76.625891</td>\n",
              "      <td>NaN</td>\n",
              "      <td>ANTIOQUIA</td>\n",
              "      <td>2022-08-05</td>\n",
              "      <td>06:00</td>\n",
              "      <td>21.5</td>\n",
              "      <td>1.6</td>\n",
              "      <td>190.0</td>\n",
              "      <td>1010.3</td>\n",
              "      <td>21.2</td>\n",
              "      <td>60.0</td>\n",
              "      <td>0.0</td>\n",
              "      <td>0.0</td>\n",
              "      <td>98.0</td>\n",
              "      <td>Parcialmente Nublado</td>\n",
              "    </tr>\n",
              "    <tr>\n",
              "      <th>80</th>\n",
              "      <td>5045000</td>\n",
              "      <td>7.883251</td>\n",
              "      <td>-76.625891</td>\n",
              "      <td>NaN</td>\n",
              "      <td>ANTIOQUIA</td>\n",
              "      <td>2022-08-05</td>\n",
              "      <td>07:00</td>\n",
              "      <td>22.1</td>\n",
              "      <td>1.5</td>\n",
              "      <td>190.0</td>\n",
              "      <td>1010.6</td>\n",
              "      <td>21.6</td>\n",
              "      <td>60.0</td>\n",
              "      <td>0.0</td>\n",
              "      <td>0.0</td>\n",
              "      <td>97.0</td>\n",
              "      <td>Parcialmente Nublado</td>\n",
              "    </tr>\n",
              "    <tr>\n",
              "      <th>81</th>\n",
              "      <td>5045000</td>\n",
              "      <td>7.883251</td>\n",
              "      <td>-76.625891</td>\n",
              "      <td>NaN</td>\n",
              "      <td>ANTIOQUIA</td>\n",
              "      <td>2022-08-05</td>\n",
              "      <td>08:00</td>\n",
              "      <td>23.3</td>\n",
              "      <td>1.9</td>\n",
              "      <td>210.0</td>\n",
              "      <td>1011.2</td>\n",
              "      <td>22.2</td>\n",
              "      <td>100.0</td>\n",
              "      <td>0.0</td>\n",
              "      <td>0.0</td>\n",
              "      <td>93.2</td>\n",
              "      <td>Nublado</td>\n",
              "    </tr>\n",
              "    <tr>\n",
              "      <th>82</th>\n",
              "      <td>5045000</td>\n",
              "      <td>7.883251</td>\n",
              "      <td>-76.625891</td>\n",
              "      <td>NaN</td>\n",
              "      <td>ANTIOQUIA</td>\n",
              "      <td>2022-08-05</td>\n",
              "      <td>09:00</td>\n",
              "      <td>24.8</td>\n",
              "      <td>2.2</td>\n",
              "      <td>213.9</td>\n",
              "      <td>1011.5</td>\n",
              "      <td>22.4</td>\n",
              "      <td>100.0</td>\n",
              "      <td>0.0</td>\n",
              "      <td>0.0</td>\n",
              "      <td>86.3</td>\n",
              "      <td>Nublado</td>\n",
              "    </tr>\n",
              "  </tbody>\n",
              "</table>\n",
              "<p>83 rows × 17 columns</p>\n",
              "</div>\n",
              "      <button class=\"colab-df-convert\" onclick=\"convertToInteractive('df-ba35212e-6183-49fd-b127-afecf8b831c6')\"\n",
              "              title=\"Convert this dataframe to an interactive table.\"\n",
              "              style=\"display:none;\">\n",
              "        \n",
              "  <svg xmlns=\"http://www.w3.org/2000/svg\" height=\"24px\"viewBox=\"0 0 24 24\"\n",
              "       width=\"24px\">\n",
              "    <path d=\"M0 0h24v24H0V0z\" fill=\"none\"/>\n",
              "    <path d=\"M18.56 5.44l.94 2.06.94-2.06 2.06-.94-2.06-.94-.94-2.06-.94 2.06-2.06.94zm-11 1L8.5 8.5l.94-2.06 2.06-.94-2.06-.94L8.5 2.5l-.94 2.06-2.06.94zm10 10l.94 2.06.94-2.06 2.06-.94-2.06-.94-.94-2.06-.94 2.06-2.06.94z\"/><path d=\"M17.41 7.96l-1.37-1.37c-.4-.4-.92-.59-1.43-.59-.52 0-1.04.2-1.43.59L10.3 9.45l-7.72 7.72c-.78.78-.78 2.05 0 2.83L4 21.41c.39.39.9.59 1.41.59.51 0 1.02-.2 1.41-.59l7.78-7.78 2.81-2.81c.8-.78.8-2.07 0-2.86zM5.41 20L4 18.59l7.72-7.72 1.47 1.35L5.41 20z\"/>\n",
              "  </svg>\n",
              "      </button>\n",
              "      \n",
              "  <style>\n",
              "    .colab-df-container {\n",
              "      display:flex;\n",
              "      flex-wrap:wrap;\n",
              "      gap: 12px;\n",
              "    }\n",
              "\n",
              "    .colab-df-convert {\n",
              "      background-color: #E8F0FE;\n",
              "      border: none;\n",
              "      border-radius: 50%;\n",
              "      cursor: pointer;\n",
              "      display: none;\n",
              "      fill: #1967D2;\n",
              "      height: 32px;\n",
              "      padding: 0 0 0 0;\n",
              "      width: 32px;\n",
              "    }\n",
              "\n",
              "    .colab-df-convert:hover {\n",
              "      background-color: #E2EBFA;\n",
              "      box-shadow: 0px 1px 2px rgba(60, 64, 67, 0.3), 0px 1px 3px 1px rgba(60, 64, 67, 0.15);\n",
              "      fill: #174EA6;\n",
              "    }\n",
              "\n",
              "    [theme=dark] .colab-df-convert {\n",
              "      background-color: #3B4455;\n",
              "      fill: #D2E3FC;\n",
              "    }\n",
              "\n",
              "    [theme=dark] .colab-df-convert:hover {\n",
              "      background-color: #434B5C;\n",
              "      box-shadow: 0px 1px 3px 1px rgba(0, 0, 0, 0.15);\n",
              "      filter: drop-shadow(0px 1px 2px rgba(0, 0, 0, 0.3));\n",
              "      fill: #FFFFFF;\n",
              "    }\n",
              "  </style>\n",
              "\n",
              "      <script>\n",
              "        const buttonEl =\n",
              "          document.querySelector('#df-ba35212e-6183-49fd-b127-afecf8b831c6 button.colab-df-convert');\n",
              "        buttonEl.style.display =\n",
              "          google.colab.kernel.accessAllowed ? 'block' : 'none';\n",
              "\n",
              "        async function convertToInteractive(key) {\n",
              "          const element = document.querySelector('#df-ba35212e-6183-49fd-b127-afecf8b831c6');\n",
              "          const dataTable =\n",
              "            await google.colab.kernel.invokeFunction('convertToInteractive',\n",
              "                                                     [key], {});\n",
              "          if (!dataTable) return;\n",
              "\n",
              "          const docLinkHtml = 'Like what you see? Visit the ' +\n",
              "            '<a target=\"_blank\" href=https://colab.research.google.com/notebooks/data_table.ipynb>data table notebook</a>'\n",
              "            + ' to learn more about interactive tables.';\n",
              "          element.innerHTML = '';\n",
              "          dataTable['output_type'] = 'display_data';\n",
              "          await google.colab.output.renderOutput(dataTable, element);\n",
              "          const docLink = document.createElement('div');\n",
              "          docLink.innerHTML = docLinkHtml;\n",
              "          element.appendChild(docLink);\n",
              "        }\n",
              "      </script>\n",
              "    </div>\n",
              "  </div>\n",
              "  "
            ]
          },
          "metadata": {},
          "execution_count": 4
        }
      ]
    },
    {
      "cell_type": "markdown",
      "source": [
        "* De este dataframe descartamos las columnas departamento, codigo divipola (Cod_Div) asi como longitud y latitud ya que estos no varian y no repercuten en el analisis metereológico que se esta realizando , tambien eliminamos región ya que no se presenta ningún dato de esta variable."
      ],
      "metadata": {
        "id": "y_32YvFLuJUc"
      }
    },
    {
      "cell_type": "code",
      "source": [
        "apartadó.drop([\"Departamento\",\"Cod_Div\",\"Región\",\"Longitud\",\"Latitud\"], axis=1)"
      ],
      "metadata": {
        "colab": {
          "base_uri": "https://localhost:8080/",
          "height": 659
        },
        "id": "EUsgIJgKsmow",
        "outputId": "2dc6c775-0e73-4f61-cba4-7b891c631c8b"
      },
      "execution_count": 6,
      "outputs": [
        {
          "output_type": "execute_result",
          "data": {
            "text/plain": [
              "         Fecha   Hora  Temperatura  Velocidad del Viento  \\\n",
              "0   2022-08-01  23:00         23.2                   1.9   \n",
              "1   2022-08-02  00:00         22.9                   2.0   \n",
              "2   2022-08-02  01:00         22.7                   2.2   \n",
              "3   2022-08-02  02:00         22.5                   2.1   \n",
              "4   2022-08-02  03:00         22.4                   2.0   \n",
              "..         ...    ...          ...                   ...   \n",
              "78  2022-08-05  05:00         21.5                   1.8   \n",
              "79  2022-08-05  06:00         21.5                   1.6   \n",
              "80  2022-08-05  07:00         22.1                   1.5   \n",
              "81  2022-08-05  08:00         23.3                   1.9   \n",
              "82  2022-08-05  09:00         24.8                   2.2   \n",
              "\n",
              "    Dirección del Viento  Presión  Punto de Rocío  Cobertura total nubosa  \\\n",
              "0                  193.9   1012.0            22.4                   100.0   \n",
              "1                  193.9   1011.4            22.3                   100.0   \n",
              "2                  193.9   1010.8            22.2                    90.7   \n",
              "3                  193.5   1011.0            22.4                    90.7   \n",
              "4                  200.0   1010.6            22.4                    90.7   \n",
              "..                   ...      ...             ...                     ...   \n",
              "78                 190.0   1010.0            21.2                    59.6   \n",
              "79                 190.0   1010.3            21.2                    60.0   \n",
              "80                 190.0   1010.6            21.6                    60.0   \n",
              "81                 210.0   1011.2            22.2                   100.0   \n",
              "82                 213.9   1011.5            22.4                   100.0   \n",
              "\n",
              "    Precipitación (mm/h)  Probabilidad de Tormenta Humedad  \\\n",
              "0                    0.0                       0.0    95.6   \n",
              "1                    0.4                       0.0    96.3   \n",
              "2                    0.4                       0.0    96.8   \n",
              "3                    0.4                       0.0       -   \n",
              "4                    0.2                       0.0       -   \n",
              "..                   ...                       ...     ...   \n",
              "78                   0.0                       0.0    98.1   \n",
              "79                   0.0                       0.0    98.0   \n",
              "80                   0.0                       0.0    97.0   \n",
              "81                   0.0                       0.0    93.2   \n",
              "82                   0.0                       0.0    86.3   \n",
              "\n",
              "             Pronóstico   \n",
              "0                Nublado  \n",
              "1     Nublado - Llovizna  \n",
              "2     Nublado - Llovizna  \n",
              "3     Nublado - Llovizna  \n",
              "4     Nublado - Llovizna  \n",
              "..                   ...  \n",
              "78  Parcialmente Nublado  \n",
              "79  Parcialmente Nublado  \n",
              "80  Parcialmente Nublado  \n",
              "81               Nublado  \n",
              "82               Nublado  \n",
              "\n",
              "[83 rows x 12 columns]"
            ],
            "text/html": [
              "\n",
              "  <div id=\"df-dd4952aa-f96e-4a8b-9bc4-2951c7d9e0b8\">\n",
              "    <div class=\"colab-df-container\">\n",
              "      <div>\n",
              "<style scoped>\n",
              "    .dataframe tbody tr th:only-of-type {\n",
              "        vertical-align: middle;\n",
              "    }\n",
              "\n",
              "    .dataframe tbody tr th {\n",
              "        vertical-align: top;\n",
              "    }\n",
              "\n",
              "    .dataframe thead th {\n",
              "        text-align: right;\n",
              "    }\n",
              "</style>\n",
              "<table border=\"1\" class=\"dataframe\">\n",
              "  <thead>\n",
              "    <tr style=\"text-align: right;\">\n",
              "      <th></th>\n",
              "      <th>Fecha</th>\n",
              "      <th>Hora</th>\n",
              "      <th>Temperatura</th>\n",
              "      <th>Velocidad del Viento</th>\n",
              "      <th>Dirección del Viento</th>\n",
              "      <th>Presión</th>\n",
              "      <th>Punto de Rocío</th>\n",
              "      <th>Cobertura total nubosa</th>\n",
              "      <th>Precipitación (mm/h)</th>\n",
              "      <th>Probabilidad de Tormenta</th>\n",
              "      <th>Humedad</th>\n",
              "      <th>Pronóstico</th>\n",
              "    </tr>\n",
              "  </thead>\n",
              "  <tbody>\n",
              "    <tr>\n",
              "      <th>0</th>\n",
              "      <td>2022-08-01</td>\n",
              "      <td>23:00</td>\n",
              "      <td>23.2</td>\n",
              "      <td>1.9</td>\n",
              "      <td>193.9</td>\n",
              "      <td>1012.0</td>\n",
              "      <td>22.4</td>\n",
              "      <td>100.0</td>\n",
              "      <td>0.0</td>\n",
              "      <td>0.0</td>\n",
              "      <td>95.6</td>\n",
              "      <td>Nublado</td>\n",
              "    </tr>\n",
              "    <tr>\n",
              "      <th>1</th>\n",
              "      <td>2022-08-02</td>\n",
              "      <td>00:00</td>\n",
              "      <td>22.9</td>\n",
              "      <td>2.0</td>\n",
              "      <td>193.9</td>\n",
              "      <td>1011.4</td>\n",
              "      <td>22.3</td>\n",
              "      <td>100.0</td>\n",
              "      <td>0.4</td>\n",
              "      <td>0.0</td>\n",
              "      <td>96.3</td>\n",
              "      <td>Nublado - Llovizna</td>\n",
              "    </tr>\n",
              "    <tr>\n",
              "      <th>2</th>\n",
              "      <td>2022-08-02</td>\n",
              "      <td>01:00</td>\n",
              "      <td>22.7</td>\n",
              "      <td>2.2</td>\n",
              "      <td>193.9</td>\n",
              "      <td>1010.8</td>\n",
              "      <td>22.2</td>\n",
              "      <td>90.7</td>\n",
              "      <td>0.4</td>\n",
              "      <td>0.0</td>\n",
              "      <td>96.8</td>\n",
              "      <td>Nublado - Llovizna</td>\n",
              "    </tr>\n",
              "    <tr>\n",
              "      <th>3</th>\n",
              "      <td>2022-08-02</td>\n",
              "      <td>02:00</td>\n",
              "      <td>22.5</td>\n",
              "      <td>2.1</td>\n",
              "      <td>193.5</td>\n",
              "      <td>1011.0</td>\n",
              "      <td>22.4</td>\n",
              "      <td>90.7</td>\n",
              "      <td>0.4</td>\n",
              "      <td>0.0</td>\n",
              "      <td>-</td>\n",
              "      <td>Nublado - Llovizna</td>\n",
              "    </tr>\n",
              "    <tr>\n",
              "      <th>4</th>\n",
              "      <td>2022-08-02</td>\n",
              "      <td>03:00</td>\n",
              "      <td>22.4</td>\n",
              "      <td>2.0</td>\n",
              "      <td>200.0</td>\n",
              "      <td>1010.6</td>\n",
              "      <td>22.4</td>\n",
              "      <td>90.7</td>\n",
              "      <td>0.2</td>\n",
              "      <td>0.0</td>\n",
              "      <td>-</td>\n",
              "      <td>Nublado - Llovizna</td>\n",
              "    </tr>\n",
              "    <tr>\n",
              "      <th>...</th>\n",
              "      <td>...</td>\n",
              "      <td>...</td>\n",
              "      <td>...</td>\n",
              "      <td>...</td>\n",
              "      <td>...</td>\n",
              "      <td>...</td>\n",
              "      <td>...</td>\n",
              "      <td>...</td>\n",
              "      <td>...</td>\n",
              "      <td>...</td>\n",
              "      <td>...</td>\n",
              "      <td>...</td>\n",
              "    </tr>\n",
              "    <tr>\n",
              "      <th>78</th>\n",
              "      <td>2022-08-05</td>\n",
              "      <td>05:00</td>\n",
              "      <td>21.5</td>\n",
              "      <td>1.8</td>\n",
              "      <td>190.0</td>\n",
              "      <td>1010.0</td>\n",
              "      <td>21.2</td>\n",
              "      <td>59.6</td>\n",
              "      <td>0.0</td>\n",
              "      <td>0.0</td>\n",
              "      <td>98.1</td>\n",
              "      <td>Parcialmente Nublado</td>\n",
              "    </tr>\n",
              "    <tr>\n",
              "      <th>79</th>\n",
              "      <td>2022-08-05</td>\n",
              "      <td>06:00</td>\n",
              "      <td>21.5</td>\n",
              "      <td>1.6</td>\n",
              "      <td>190.0</td>\n",
              "      <td>1010.3</td>\n",
              "      <td>21.2</td>\n",
              "      <td>60.0</td>\n",
              "      <td>0.0</td>\n",
              "      <td>0.0</td>\n",
              "      <td>98.0</td>\n",
              "      <td>Parcialmente Nublado</td>\n",
              "    </tr>\n",
              "    <tr>\n",
              "      <th>80</th>\n",
              "      <td>2022-08-05</td>\n",
              "      <td>07:00</td>\n",
              "      <td>22.1</td>\n",
              "      <td>1.5</td>\n",
              "      <td>190.0</td>\n",
              "      <td>1010.6</td>\n",
              "      <td>21.6</td>\n",
              "      <td>60.0</td>\n",
              "      <td>0.0</td>\n",
              "      <td>0.0</td>\n",
              "      <td>97.0</td>\n",
              "      <td>Parcialmente Nublado</td>\n",
              "    </tr>\n",
              "    <tr>\n",
              "      <th>81</th>\n",
              "      <td>2022-08-05</td>\n",
              "      <td>08:00</td>\n",
              "      <td>23.3</td>\n",
              "      <td>1.9</td>\n",
              "      <td>210.0</td>\n",
              "      <td>1011.2</td>\n",
              "      <td>22.2</td>\n",
              "      <td>100.0</td>\n",
              "      <td>0.0</td>\n",
              "      <td>0.0</td>\n",
              "      <td>93.2</td>\n",
              "      <td>Nublado</td>\n",
              "    </tr>\n",
              "    <tr>\n",
              "      <th>82</th>\n",
              "      <td>2022-08-05</td>\n",
              "      <td>09:00</td>\n",
              "      <td>24.8</td>\n",
              "      <td>2.2</td>\n",
              "      <td>213.9</td>\n",
              "      <td>1011.5</td>\n",
              "      <td>22.4</td>\n",
              "      <td>100.0</td>\n",
              "      <td>0.0</td>\n",
              "      <td>0.0</td>\n",
              "      <td>86.3</td>\n",
              "      <td>Nublado</td>\n",
              "    </tr>\n",
              "  </tbody>\n",
              "</table>\n",
              "<p>83 rows × 12 columns</p>\n",
              "</div>\n",
              "      <button class=\"colab-df-convert\" onclick=\"convertToInteractive('df-dd4952aa-f96e-4a8b-9bc4-2951c7d9e0b8')\"\n",
              "              title=\"Convert this dataframe to an interactive table.\"\n",
              "              style=\"display:none;\">\n",
              "        \n",
              "  <svg xmlns=\"http://www.w3.org/2000/svg\" height=\"24px\"viewBox=\"0 0 24 24\"\n",
              "       width=\"24px\">\n",
              "    <path d=\"M0 0h24v24H0V0z\" fill=\"none\"/>\n",
              "    <path d=\"M18.56 5.44l.94 2.06.94-2.06 2.06-.94-2.06-.94-.94-2.06-.94 2.06-2.06.94zm-11 1L8.5 8.5l.94-2.06 2.06-.94-2.06-.94L8.5 2.5l-.94 2.06-2.06.94zm10 10l.94 2.06.94-2.06 2.06-.94-2.06-.94-.94-2.06-.94 2.06-2.06.94z\"/><path d=\"M17.41 7.96l-1.37-1.37c-.4-.4-.92-.59-1.43-.59-.52 0-1.04.2-1.43.59L10.3 9.45l-7.72 7.72c-.78.78-.78 2.05 0 2.83L4 21.41c.39.39.9.59 1.41.59.51 0 1.02-.2 1.41-.59l7.78-7.78 2.81-2.81c.8-.78.8-2.07 0-2.86zM5.41 20L4 18.59l7.72-7.72 1.47 1.35L5.41 20z\"/>\n",
              "  </svg>\n",
              "      </button>\n",
              "      \n",
              "  <style>\n",
              "    .colab-df-container {\n",
              "      display:flex;\n",
              "      flex-wrap:wrap;\n",
              "      gap: 12px;\n",
              "    }\n",
              "\n",
              "    .colab-df-convert {\n",
              "      background-color: #E8F0FE;\n",
              "      border: none;\n",
              "      border-radius: 50%;\n",
              "      cursor: pointer;\n",
              "      display: none;\n",
              "      fill: #1967D2;\n",
              "      height: 32px;\n",
              "      padding: 0 0 0 0;\n",
              "      width: 32px;\n",
              "    }\n",
              "\n",
              "    .colab-df-convert:hover {\n",
              "      background-color: #E2EBFA;\n",
              "      box-shadow: 0px 1px 2px rgba(60, 64, 67, 0.3), 0px 1px 3px 1px rgba(60, 64, 67, 0.15);\n",
              "      fill: #174EA6;\n",
              "    }\n",
              "\n",
              "    [theme=dark] .colab-df-convert {\n",
              "      background-color: #3B4455;\n",
              "      fill: #D2E3FC;\n",
              "    }\n",
              "\n",
              "    [theme=dark] .colab-df-convert:hover {\n",
              "      background-color: #434B5C;\n",
              "      box-shadow: 0px 1px 3px 1px rgba(0, 0, 0, 0.15);\n",
              "      filter: drop-shadow(0px 1px 2px rgba(0, 0, 0, 0.3));\n",
              "      fill: #FFFFFF;\n",
              "    }\n",
              "  </style>\n",
              "\n",
              "      <script>\n",
              "        const buttonEl =\n",
              "          document.querySelector('#df-dd4952aa-f96e-4a8b-9bc4-2951c7d9e0b8 button.colab-df-convert');\n",
              "        buttonEl.style.display =\n",
              "          google.colab.kernel.accessAllowed ? 'block' : 'none';\n",
              "\n",
              "        async function convertToInteractive(key) {\n",
              "          const element = document.querySelector('#df-dd4952aa-f96e-4a8b-9bc4-2951c7d9e0b8');\n",
              "          const dataTable =\n",
              "            await google.colab.kernel.invokeFunction('convertToInteractive',\n",
              "                                                     [key], {});\n",
              "          if (!dataTable) return;\n",
              "\n",
              "          const docLinkHtml = 'Like what you see? Visit the ' +\n",
              "            '<a target=\"_blank\" href=https://colab.research.google.com/notebooks/data_table.ipynb>data table notebook</a>'\n",
              "            + ' to learn more about interactive tables.';\n",
              "          element.innerHTML = '';\n",
              "          dataTable['output_type'] = 'display_data';\n",
              "          await google.colab.output.renderOutput(dataTable, element);\n",
              "          const docLink = document.createElement('div');\n",
              "          docLink.innerHTML = docLinkHtml;\n",
              "          element.appendChild(docLink);\n",
              "        }\n",
              "      </script>\n",
              "    </div>\n",
              "  </div>\n",
              "  "
            ]
          },
          "metadata": {},
          "execution_count": 6
        }
      ]
    },
    {
      "cell_type": "markdown",
      "source": [
        "## Inferencias del DataFrame\n",
        "\n",
        "+ Las temperaturas se presentan en grados celsius. \n",
        "+  Se presentan pronosticos para cinco dias, desde la fecha actual (2022-08-01) hasta el (2022-08-05).\n",
        "+  Los dias 1 de agosto en la noche y 2 de agosto en la madrugada se pronostican con alta nubosidad.\n",
        "+ El día 2 de agosto en la madrugada se pronostican lluvias con una pluviosidad alta.\n",
        "+ Se puede ver que la humedad estos dias está por encima del 86%.\n",
        "\n"
      ],
      "metadata": {
        "id": "Wz74yFL8WLn4"
      }
    },
    {
      "cell_type": "code",
      "source": [
        "apartadó.info()"
      ],
      "metadata": {
        "colab": {
          "base_uri": "https://localhost:8080/"
        },
        "id": "d-aliuSzRLvd",
        "outputId": "fca08ac6-dbb8-465f-bb2a-11f9c8db137b"
      },
      "execution_count": 7,
      "outputs": [
        {
          "output_type": "stream",
          "name": "stdout",
          "text": [
            "<class 'pandas.core.frame.DataFrame'>\n",
            "RangeIndex: 83 entries, 0 to 82\n",
            "Data columns (total 17 columns):\n",
            " #   Column                    Non-Null Count  Dtype  \n",
            "---  ------                    --------------  -----  \n",
            " 0   Cod_Div                   83 non-null     int64  \n",
            " 1   Latitud                   83 non-null     float64\n",
            " 2   Longitud                  83 non-null     float64\n",
            " 3   Región                    0 non-null      float64\n",
            " 4   Departamento              83 non-null     object \n",
            " 5   Fecha                     83 non-null     object \n",
            " 6   Hora                      83 non-null     object \n",
            " 7   Temperatura               83 non-null     float64\n",
            " 8   Velocidad del Viento      83 non-null     float64\n",
            " 9   Dirección del Viento      83 non-null     float64\n",
            " 10  Presión                   83 non-null     float64\n",
            " 11  Punto de Rocío            83 non-null     float64\n",
            " 12  Cobertura total nubosa    83 non-null     float64\n",
            " 13  Precipitación (mm/h)      83 non-null     float64\n",
            " 14  Probabilidad de Tormenta  83 non-null     float64\n",
            " 15  Humedad                   83 non-null     object \n",
            " 16  Pronóstico                83 non-null     object \n",
            "dtypes: float64(11), int64(1), object(5)\n",
            "memory usage: 11.1+ KB\n"
          ]
        }
      ]
    },
    {
      "cell_type": "markdown",
      "source": [
        "## Inferencias la sintesis dada por el método info():"
      ],
      "metadata": {
        "id": "IY_4c0FWuliM"
      }
    },
    {
      "cell_type": "markdown",
      "source": [
        "+ Solo hay datos faltantantes de región.\n",
        "+ La humedad es una variable tipo float pero por alguna razón aparece como tipo object.\n",
        "+ Las variables categóricas son pronostico, departamento.\n",
        "+ La variable de dirección del viento es cuantitativa continua."
      ],
      "metadata": {
        "id": "snjo9ThmpCjN"
      }
    },
    {
      "cell_type": "code",
      "source": [
        "df=pd.DataFrame(apartadó)"
      ],
      "metadata": {
        "id": "Xx9LEtftx-6K"
      },
      "execution_count": 8,
      "outputs": []
    },
    {
      "cell_type": "code",
      "source": [
        "apartadó.drop([\"Departamento\",\"Cod_Div\",\"Región\",\"Longitud\",\"Latitud\"], axis=1).describe()"
      ],
      "metadata": {
        "colab": {
          "base_uri": "https://localhost:8080/",
          "height": 362
        },
        "id": "h5Ifazy4DnqH",
        "outputId": "a38ef5bb-1dde-4a75-b7b1-3fa66d22dccf"
      },
      "execution_count": 9,
      "outputs": [
        {
          "output_type": "execute_result",
          "data": {
            "text/plain": [
              "       Temperatura  Velocidad del Viento  Dirección del Viento      Presión  \\\n",
              "count    83.000000             83.000000             83.000000    83.000000   \n",
              "mean     24.461446              1.703614            198.542169  1010.396386   \n",
              "std       2.153207              0.574126             20.403737     1.292421   \n",
              "min      21.500000              0.600000            146.100000  1007.200000   \n",
              "25%      22.800000              1.300000            189.800000  1009.800000   \n",
              "50%      23.900000              1.700000            200.000000  1010.600000   \n",
              "75%      26.300000              2.000000            210.200000  1011.300000   \n",
              "max      28.500000              3.400000            247.700000  1012.400000   \n",
              "\n",
              "       Punto de Rocío  Cobertura total nubosa  Precipitación (mm/h)  \\\n",
              "count       83.000000               83.000000             83.000000   \n",
              "mean        22.624096               77.907229              0.257831   \n",
              "std          1.245537               16.546245              0.523851   \n",
              "min         18.900000               50.000000              0.000000   \n",
              "25%         22.100000               60.900000              0.000000   \n",
              "50%         22.500000               76.100000              0.000000   \n",
              "75%         23.300000               96.500000              0.300000   \n",
              "max         25.600000              100.000000              3.700000   \n",
              "\n",
              "       Probabilidad de Tormenta  \n",
              "count                 83.000000  \n",
              "mean                   0.602410  \n",
              "std                    3.935268  \n",
              "min                    0.000000  \n",
              "25%                    0.000000  \n",
              "50%                    0.000000  \n",
              "75%                    0.000000  \n",
              "max                   30.000000  "
            ],
            "text/html": [
              "\n",
              "  <div id=\"df-583f6bc4-2783-423a-b670-736c13572a62\">\n",
              "    <div class=\"colab-df-container\">\n",
              "      <div>\n",
              "<style scoped>\n",
              "    .dataframe tbody tr th:only-of-type {\n",
              "        vertical-align: middle;\n",
              "    }\n",
              "\n",
              "    .dataframe tbody tr th {\n",
              "        vertical-align: top;\n",
              "    }\n",
              "\n",
              "    .dataframe thead th {\n",
              "        text-align: right;\n",
              "    }\n",
              "</style>\n",
              "<table border=\"1\" class=\"dataframe\">\n",
              "  <thead>\n",
              "    <tr style=\"text-align: right;\">\n",
              "      <th></th>\n",
              "      <th>Temperatura</th>\n",
              "      <th>Velocidad del Viento</th>\n",
              "      <th>Dirección del Viento</th>\n",
              "      <th>Presión</th>\n",
              "      <th>Punto de Rocío</th>\n",
              "      <th>Cobertura total nubosa</th>\n",
              "      <th>Precipitación (mm/h)</th>\n",
              "      <th>Probabilidad de Tormenta</th>\n",
              "    </tr>\n",
              "  </thead>\n",
              "  <tbody>\n",
              "    <tr>\n",
              "      <th>count</th>\n",
              "      <td>83.000000</td>\n",
              "      <td>83.000000</td>\n",
              "      <td>83.000000</td>\n",
              "      <td>83.000000</td>\n",
              "      <td>83.000000</td>\n",
              "      <td>83.000000</td>\n",
              "      <td>83.000000</td>\n",
              "      <td>83.000000</td>\n",
              "    </tr>\n",
              "    <tr>\n",
              "      <th>mean</th>\n",
              "      <td>24.461446</td>\n",
              "      <td>1.703614</td>\n",
              "      <td>198.542169</td>\n",
              "      <td>1010.396386</td>\n",
              "      <td>22.624096</td>\n",
              "      <td>77.907229</td>\n",
              "      <td>0.257831</td>\n",
              "      <td>0.602410</td>\n",
              "    </tr>\n",
              "    <tr>\n",
              "      <th>std</th>\n",
              "      <td>2.153207</td>\n",
              "      <td>0.574126</td>\n",
              "      <td>20.403737</td>\n",
              "      <td>1.292421</td>\n",
              "      <td>1.245537</td>\n",
              "      <td>16.546245</td>\n",
              "      <td>0.523851</td>\n",
              "      <td>3.935268</td>\n",
              "    </tr>\n",
              "    <tr>\n",
              "      <th>min</th>\n",
              "      <td>21.500000</td>\n",
              "      <td>0.600000</td>\n",
              "      <td>146.100000</td>\n",
              "      <td>1007.200000</td>\n",
              "      <td>18.900000</td>\n",
              "      <td>50.000000</td>\n",
              "      <td>0.000000</td>\n",
              "      <td>0.000000</td>\n",
              "    </tr>\n",
              "    <tr>\n",
              "      <th>25%</th>\n",
              "      <td>22.800000</td>\n",
              "      <td>1.300000</td>\n",
              "      <td>189.800000</td>\n",
              "      <td>1009.800000</td>\n",
              "      <td>22.100000</td>\n",
              "      <td>60.900000</td>\n",
              "      <td>0.000000</td>\n",
              "      <td>0.000000</td>\n",
              "    </tr>\n",
              "    <tr>\n",
              "      <th>50%</th>\n",
              "      <td>23.900000</td>\n",
              "      <td>1.700000</td>\n",
              "      <td>200.000000</td>\n",
              "      <td>1010.600000</td>\n",
              "      <td>22.500000</td>\n",
              "      <td>76.100000</td>\n",
              "      <td>0.000000</td>\n",
              "      <td>0.000000</td>\n",
              "    </tr>\n",
              "    <tr>\n",
              "      <th>75%</th>\n",
              "      <td>26.300000</td>\n",
              "      <td>2.000000</td>\n",
              "      <td>210.200000</td>\n",
              "      <td>1011.300000</td>\n",
              "      <td>23.300000</td>\n",
              "      <td>96.500000</td>\n",
              "      <td>0.300000</td>\n",
              "      <td>0.000000</td>\n",
              "    </tr>\n",
              "    <tr>\n",
              "      <th>max</th>\n",
              "      <td>28.500000</td>\n",
              "      <td>3.400000</td>\n",
              "      <td>247.700000</td>\n",
              "      <td>1012.400000</td>\n",
              "      <td>25.600000</td>\n",
              "      <td>100.000000</td>\n",
              "      <td>3.700000</td>\n",
              "      <td>30.000000</td>\n",
              "    </tr>\n",
              "  </tbody>\n",
              "</table>\n",
              "</div>\n",
              "      <button class=\"colab-df-convert\" onclick=\"convertToInteractive('df-583f6bc4-2783-423a-b670-736c13572a62')\"\n",
              "              title=\"Convert this dataframe to an interactive table.\"\n",
              "              style=\"display:none;\">\n",
              "        \n",
              "  <svg xmlns=\"http://www.w3.org/2000/svg\" height=\"24px\"viewBox=\"0 0 24 24\"\n",
              "       width=\"24px\">\n",
              "    <path d=\"M0 0h24v24H0V0z\" fill=\"none\"/>\n",
              "    <path d=\"M18.56 5.44l.94 2.06.94-2.06 2.06-.94-2.06-.94-.94-2.06-.94 2.06-2.06.94zm-11 1L8.5 8.5l.94-2.06 2.06-.94-2.06-.94L8.5 2.5l-.94 2.06-2.06.94zm10 10l.94 2.06.94-2.06 2.06-.94-2.06-.94-.94-2.06-.94 2.06-2.06.94z\"/><path d=\"M17.41 7.96l-1.37-1.37c-.4-.4-.92-.59-1.43-.59-.52 0-1.04.2-1.43.59L10.3 9.45l-7.72 7.72c-.78.78-.78 2.05 0 2.83L4 21.41c.39.39.9.59 1.41.59.51 0 1.02-.2 1.41-.59l7.78-7.78 2.81-2.81c.8-.78.8-2.07 0-2.86zM5.41 20L4 18.59l7.72-7.72 1.47 1.35L5.41 20z\"/>\n",
              "  </svg>\n",
              "      </button>\n",
              "      \n",
              "  <style>\n",
              "    .colab-df-container {\n",
              "      display:flex;\n",
              "      flex-wrap:wrap;\n",
              "      gap: 12px;\n",
              "    }\n",
              "\n",
              "    .colab-df-convert {\n",
              "      background-color: #E8F0FE;\n",
              "      border: none;\n",
              "      border-radius: 50%;\n",
              "      cursor: pointer;\n",
              "      display: none;\n",
              "      fill: #1967D2;\n",
              "      height: 32px;\n",
              "      padding: 0 0 0 0;\n",
              "      width: 32px;\n",
              "    }\n",
              "\n",
              "    .colab-df-convert:hover {\n",
              "      background-color: #E2EBFA;\n",
              "      box-shadow: 0px 1px 2px rgba(60, 64, 67, 0.3), 0px 1px 3px 1px rgba(60, 64, 67, 0.15);\n",
              "      fill: #174EA6;\n",
              "    }\n",
              "\n",
              "    [theme=dark] .colab-df-convert {\n",
              "      background-color: #3B4455;\n",
              "      fill: #D2E3FC;\n",
              "    }\n",
              "\n",
              "    [theme=dark] .colab-df-convert:hover {\n",
              "      background-color: #434B5C;\n",
              "      box-shadow: 0px 1px 3px 1px rgba(0, 0, 0, 0.15);\n",
              "      filter: drop-shadow(0px 1px 2px rgba(0, 0, 0, 0.3));\n",
              "      fill: #FFFFFF;\n",
              "    }\n",
              "  </style>\n",
              "\n",
              "      <script>\n",
              "        const buttonEl =\n",
              "          document.querySelector('#df-583f6bc4-2783-423a-b670-736c13572a62 button.colab-df-convert');\n",
              "        buttonEl.style.display =\n",
              "          google.colab.kernel.accessAllowed ? 'block' : 'none';\n",
              "\n",
              "        async function convertToInteractive(key) {\n",
              "          const element = document.querySelector('#df-583f6bc4-2783-423a-b670-736c13572a62');\n",
              "          const dataTable =\n",
              "            await google.colab.kernel.invokeFunction('convertToInteractive',\n",
              "                                                     [key], {});\n",
              "          if (!dataTable) return;\n",
              "\n",
              "          const docLinkHtml = 'Like what you see? Visit the ' +\n",
              "            '<a target=\"_blank\" href=https://colab.research.google.com/notebooks/data_table.ipynb>data table notebook</a>'\n",
              "            + ' to learn more about interactive tables.';\n",
              "          element.innerHTML = '';\n",
              "          dataTable['output_type'] = 'display_data';\n",
              "          await google.colab.output.renderOutput(dataTable, element);\n",
              "          const docLink = document.createElement('div');\n",
              "          docLink.innerHTML = docLinkHtml;\n",
              "          element.appendChild(docLink);\n",
              "        }\n",
              "      </script>\n",
              "    </div>\n",
              "  </div>\n",
              "  "
            ]
          },
          "metadata": {},
          "execution_count": 9
        }
      ]
    },
    {
      "cell_type": "markdown",
      "source": [
        "## Interpretación de tabla \n",
        "+ La temperatura media en estos 5 dias en el municipio de apartadó fue 24.46°C \n",
        "\n",
        "+ La media y mediana es cercana o igual en todas las variables exceptuando la variable precipitación.\n",
        "+ La cobertura nubosa minima en estos dias fue del 50% llegando hasta un 100%.\n",
        "+ La media de precipitación por hora es alta por lo que se preveen lluvias abundantes en este lapso de tiempo. "
      ],
      "metadata": {
        "id": "hCFeo1VmD2g7"
      }
    },
    {
      "cell_type": "markdown",
      "source": [
        "# Visualización gráfica para variables categóricas"
      ],
      "metadata": {
        "id": "qnQmn5EUTj5H"
      }
    },
    {
      "cell_type": "code",
      "source": [
        "apartadó.keys()"
      ],
      "metadata": {
        "colab": {
          "base_uri": "https://localhost:8080/"
        },
        "id": "xddmcczuVamP",
        "outputId": "4dbd4785-a1e5-434d-a80c-fcb10b5a7ac6"
      },
      "execution_count": 10,
      "outputs": [
        {
          "output_type": "execute_result",
          "data": {
            "text/plain": [
              "Index(['Cod_Div', 'Latitud', 'Longitud', 'Región', 'Departamento', 'Fecha',\n",
              "       'Hora', 'Temperatura', 'Velocidad del Viento', 'Dirección del Viento',\n",
              "       'Presión', 'Punto de Rocío', 'Cobertura total nubosa',\n",
              "       'Precipitación (mm/h)', 'Probabilidad de Tormenta', 'Humedad',\n",
              "       'Pronóstico '],\n",
              "      dtype='object')"
            ]
          },
          "metadata": {},
          "execution_count": 10
        }
      ]
    },
    {
      "cell_type": "code",
      "source": [
        "apartadó['Pronóstico '].value_counts().plot(kind = 'bar') "
      ],
      "metadata": {
        "id": "J2ck6azzbONu",
        "colab": {
          "base_uri": "https://localhost:8080/",
          "height": 433
        },
        "outputId": "d7566bbc-bfdd-4616-ba08-537da07cc0c7"
      },
      "execution_count": 11,
      "outputs": [
        {
          "output_type": "execute_result",
          "data": {
            "text/plain": [
              "<matplotlib.axes._subplots.AxesSubplot at 0x7f0e54ed7dd0>"
            ]
          },
          "metadata": {},
          "execution_count": 11
        },
        {
          "output_type": "display_data",
          "data": {
            "text/plain": [
              "<Figure size 432x288 with 1 Axes>"
            ],
            "image/png": "[encoded data removed]"
          },
          "metadata": {
            "needs_background": "light"
          }
        }
      ]
    },
    {
      "cell_type": "markdown",
      "source": [
        "## Inferencias gráfico de barras\n",
        "+ Se presentan 6 tipos de pronostico.\n",
        "+ El pronostico más frecuente es de cielo parcialmente nublado.\n",
        "+ El pronostico menos frecuente es el de Nublado-Tormnenta Ligera.\n",
        "+ Casi la mitad de los dias seran nublados con sus respectivas variaciones.(Con lluvia, llovizna y tormenta ligera).\n",
        " \n"
      ],
      "metadata": {
        "id": "yyQzBS1Wu1po"
      }
    },
    {
      "cell_type": "code",
      "source": [
        "apartadó['Pronóstico '].value_counts().plot(kind = 'pie')  "
      ],
      "metadata": {
        "colab": {
          "base_uri": "https://localhost:8080/",
          "height": 265
        },
        "id": "6imlriJmT2nR",
        "outputId": "dce6a1cd-a50c-459a-f9d5-39219bb9ba4f"
      },
      "execution_count": 12,
      "outputs": [
        {
          "output_type": "execute_result",
          "data": {
            "text/plain": [
              "<matplotlib.axes._subplots.AxesSubplot at 0x7f0e54e20e90>"
            ]
          },
          "metadata": {},
          "execution_count": 12
        },
        {
          "output_type": "display_data",
          "data": {
            "text/plain": [
              "<Figure size 432x288 with 1 Axes>"
            ],
            "image/png": "[encoded data removed]"
          },
          "metadata": {}
        }
      ]
    },
    {
      "cell_type": "markdown",
      "source": [
        "## Interpretación gráfica de pastel\n",
        "+ Más de la tercera parte de los dias se pronostican como parcialmente nublado.\n",
        "+ Una cuarta parte se pronostica como nublado-llovizna.\n",
        "+ La frecuencia del pronostico nublado-tormenta ligera es muy pequeña.\n",
        "+ Una cuarta parte se pronostica como nublado."
      ],
      "metadata": {
        "id": "4LD4603_4CEp"
      }
    },
    {
      "cell_type": "markdown",
      "source": [
        "# Visualización para variables cuantitativas continuas"
      ],
      "metadata": {
        "id": "3FPg5SPsUzrx"
      }
    },
    {
      "cell_type": "code",
      "source": [
        "apartadó['Dirección del Viento'].plot(kind = 'hist', bins = 10) "
      ],
      "metadata": {
        "colab": {
          "base_uri": "https://localhost:8080/",
          "height": 282
        },
        "id": "Z2QYyep0U5SB",
        "outputId": "13334414-8754-4ab6-d8d8-1723e44c009c"
      },
      "execution_count": 13,
      "outputs": [
        {
          "output_type": "execute_result",
          "data": {
            "text/plain": [
              "<matplotlib.axes._subplots.AxesSubplot at 0x7f0e54967e10>"
            ]
          },
          "metadata": {},
          "execution_count": 13
        },
        {
          "output_type": "display_data",
          "data": {
            "text/plain": [
              "<Figure size 432x288 with 1 Axes>"
            ],
            "image/png": "[encoded data removed]"
          },
          "metadata": {
            "needs_background": "light"
          }
        }
      ]
    },
    {
      "cell_type": "code",
      "source": [
        "import matplotlib.pyplot as plt \n",
        "apartadó.drop([\"Departamento\",\"Cod_Div\",\"Región\",\"Longitud\",\"Latitud\"], axis=1).hist(figsize = (20,10))\n",
        "plt.show()"
      ],
      "metadata": {
        "colab": {
          "base_uri": "https://localhost:8080/",
          "height": 607
        },
        "id": "DjeQq-lLGJOD",
        "outputId": "9d4505f4-2131-4619-ef29-9737924c792c"
      },
      "execution_count": 14,
      "outputs": [
        {
          "output_type": "display_data",
          "data": {
            "text/plain": [
              "<Figure size 1440x720 with 9 Axes>"
            ],
            "image/png": "[encoded data removed]"
          },
          "metadata": {
            "needs_background": "light"
          }
        }
      ]
    },
    {
      "cell_type": "markdown",
      "source": [
        "# Diagrama de dispersión para ver la relación entre las variables cuentitativas continuas de precipitación y humedad"
      ],
      "metadata": {
        "id": "SDt-k2RGVUtV"
      }
    },
    {
      "cell_type": "code",
      "source": [
        "apartadó['Precipitación (mm/h)']"
      ],
      "metadata": {
        "colab": {
          "base_uri": "https://localhost:8080/"
        },
        "id": "CBNaUZvCU89E",
        "outputId": "36f55c3e-d745-45da-ef55-148c222b0a33"
      },
      "execution_count": 15,
      "outputs": [
        {
          "output_type": "execute_result",
          "data": {
            "text/plain": [
              "0     0.0\n",
              "1     0.4\n",
              "2     0.4\n",
              "3     0.4\n",
              "4     0.2\n",
              "     ... \n",
              "78    0.0\n",
              "79    0.0\n",
              "80    0.0\n",
              "81    0.0\n",
              "82    0.0\n",
              "Name: Precipitación (mm/h), Length: 83, dtype: float64"
            ]
          },
          "metadata": {},
          "execution_count": 15
        }
      ]
    },
    {
      "cell_type": "code",
      "source": [
        "import numpy as np \n",
        "apartadó.Humedad "
      ],
      "metadata": {
        "colab": {
          "base_uri": "https://localhost:8080/"
        },
        "id": "PRMllowAVdAQ",
        "outputId": "4506ea92-ea75-42d6-b7a0-6e202b87296a"
      },
      "execution_count": 16,
      "outputs": [
        {
          "output_type": "execute_result",
          "data": {
            "text/plain": [
              "0     95.6\n",
              "1     96.3\n",
              "2     96.8\n",
              "3        -\n",
              "4        -\n",
              "      ... \n",
              "78    98.1\n",
              "79    98.0\n",
              "80    97.0\n",
              "81    93.2\n",
              "82    86.3\n",
              "Name: Humedad, Length: 83, dtype: object"
            ]
          },
          "metadata": {},
          "execution_count": 16
        }
      ]
    },
    {
      "cell_type": "code",
      "source": [
        "import matplotlib.pyplot as plt\n",
        "plt.figure(figsize = (16, 7))\n",
        "plt.scatter(apartadó.Temperatura, apartadó['Precipitación (mm/h)'])\n",
        "plt.xlabel('Temperatura en Apartadó entre el 29 de julio y 02 de agosto de 2022')\n",
        "plt.ylabel('Precipitación (mm/h)') \n",
        "plt.xticks(np.arange(22, 33, 0.5))\n",
        "\n",
        "plt.show() "
      ],
      "metadata": {
        "colab": {
          "base_uri": "https://localhost:8080/",
          "height": 443
        },
        "id": "LwHgwSgcVq9T",
        "outputId": "78a0c89b-d348-4d73-e955-154ca312b35b"
      },
      "execution_count": 17,
      "outputs": [
        {
          "output_type": "display_data",
          "data": {
            "text/plain": [
              "<Figure size 1152x504 with 1 Axes>"
            ],
            "image/png": "[encoded data removed]"
          },
          "metadata": {
            "needs_background": "light"
          }
        }
      ]
    },
    {
      "cell_type": "code",
      "source": [
        "apartadó.Temperatura.min(), apartadó.Temperatura.max() "
      ],
      "metadata": {
        "colab": {
          "base_uri": "https://localhost:8080/"
        },
        "id": "1ceFHLyOWJPQ",
        "outputId": "c4d78bf0-831a-4565-db7b-8531350c47ea"
      },
      "execution_count": 18,
      "outputs": [
        {
          "output_type": "execute_result",
          "data": {
            "text/plain": [
              "(21.5, 28.5)"
            ]
          },
          "metadata": {},
          "execution_count": 18
        }
      ]
    },
    {
      "cell_type": "code",
      "source": [
        ""
      ],
      "metadata": {
        "id": "6g9bw3y2WsSh"
      },
      "execution_count": 18,
      "outputs": []
    }
  ]
}